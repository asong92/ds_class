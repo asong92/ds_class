{
 "cells": [
  {
   "cell_type": "markdown",
   "metadata": {},
   "source": [
    "## Lab 9 - Regression\n",
    "\n",
    "\n",
    "### (Based on [RABE](http://www.ilr.cornell.edu/~hadi/RABE4/) 3.15)\n",
    "\n",
    "A national insurance organization wanted to study the consumption pattern of cigarettes in all 50 states and the District of Columbia. The variables chosen for the study are:\n",
    "\n",
    "* Age: Median age of a person living in a state.\n",
    "\n",
    "* HS: Percentage of people over 25 years of age in a state who had completed high school.\n",
    "\n",
    "* Income: Per capita personal income for a state (income in dollars).\n",
    "\n",
    "* Black: Percentage of blacks living in a state.\n",
    "\n",
    "* Female: Percentage of females living in a state.\n",
    "\n",
    "* Price: Weighted average price (in cents) of a pack ofcigarettes in a state.\n",
    "\n",
    "* Sales: Number of packs of cigarettes sold in a state on a per capita basis.\n",
    "\n",
    "The data can be found at [http://www1.aucegypt.edu/faculty/hadi/RABE5/Data5/P088.txt](http://www1.aucegypt.edu/faculty/hadi/RABE5/Data5/P088.txt).\n",
    "\n",
    "Below, specify the null and alternative hypotheses, the test used, and your conclusion using a 5% level of significance.\n",
    "\n",
    "1. Test the hypothesis that the variable `Female` is not needed in the regression equation relating Sales to the six predictor variables.\n",
    "\n",
    "2. Test the hypothesis that the variables `Female` and `HS` are not needed in the above regression equation.\n",
    "\n",
    "3. Compute a 95% confidence interval for the true regression coefficient of the variable `Income`.\n",
    "\n",
    "4. What percentage of the variation in `Sales` can be accounted for when `Income` is removed from the above regression equation? Which model did you use?"
   ]
  },
  {
   "cell_type": "code",
   "execution_count": 7,
   "metadata": {
    "collapsed": false
   },
   "outputs": [],
   "source": [
    "from __future__ import division\n",
    "\n",
    "import matplotlib as mpl\n",
    "import numpy as np\n",
    "import pandas as pd\n",
    "import seaborn as sns\n",
    "import statsmodels.formula.api as smf\n",
    "\n",
    "from numpy.random import randn\n",
    "from scipy import stats\n",
    "from seaborn import plt\n",
    "from statsmodels.stats.anova import anova_lm"
   ]
  },
  {
   "cell_type": "code",
   "execution_count": 4,
   "metadata": {
    "collapsed": false
   },
   "outputs": [
    {
     "data": {
      "text/html": [
       "<table class=\"simpletable\">\n",
       "<caption>OLS Regression Results</caption>\n",
       "<tr>\n",
       "  <th>Dep. Variable:</th>          <td>Sales</td>      <th>  R-squared:         </th> <td>   0.321</td>\n",
       "</tr>\n",
       "<tr>\n",
       "  <th>Model:</th>                   <td>OLS</td>       <th>  Adj. R-squared:    </th> <td>   0.228</td>\n",
       "</tr>\n",
       "<tr>\n",
       "  <th>Method:</th>             <td>Least Squares</td>  <th>  F-statistic:       </th> <td>   3.464</td>\n",
       "</tr>\n",
       "<tr>\n",
       "  <th>Date:</th>             <td>Wed, 18 Mar 2015</td> <th>  Prob (F-statistic):</th>  <td>0.00686</td>\n",
       "</tr>\n",
       "<tr>\n",
       "  <th>Time:</th>                 <td>12:29:16</td>     <th>  Log-Likelihood:    </th> <td> -238.86</td>\n",
       "</tr>\n",
       "<tr>\n",
       "  <th>No. Observations:</th>      <td>    51</td>      <th>  AIC:               </th> <td>   491.7</td>\n",
       "</tr>\n",
       "<tr>\n",
       "  <th>Df Residuals:</th>          <td>    44</td>      <th>  BIC:               </th> <td>   505.2</td>\n",
       "</tr>\n",
       "<tr>\n",
       "  <th>Df Model:</th>              <td>     6</td>      <th>                     </th>     <td> </td>   \n",
       "</tr>\n",
       "</table>\n",
       "<table class=\"simpletable\">\n",
       "<tr>\n",
       "      <td></td>         <th>coef</th>     <th>std err</th>      <th>t</th>      <th>P>|t|</th> <th>[95.0% Conf. Int.]</th> \n",
       "</tr>\n",
       "<tr>\n",
       "  <th>Intercept</th> <td>  103.3448</td> <td>  245.607</td> <td>    0.421</td> <td> 0.676</td> <td> -391.644   598.334</td>\n",
       "</tr>\n",
       "<tr>\n",
       "  <th>Age</th>       <td>    4.5205</td> <td>    3.220</td> <td>    1.404</td> <td> 0.167</td> <td>   -1.969    11.009</td>\n",
       "</tr>\n",
       "<tr>\n",
       "  <th>HS</th>        <td>   -0.0616</td> <td>    0.815</td> <td>   -0.076</td> <td> 0.940</td> <td>   -1.703     1.580</td>\n",
       "</tr>\n",
       "<tr>\n",
       "  <th>Income</th>    <td>    0.0189</td> <td>    0.010</td> <td>    1.855</td> <td> 0.070</td> <td>   -0.002     0.040</td>\n",
       "</tr>\n",
       "<tr>\n",
       "  <th>Black</th>     <td>    0.3575</td> <td>    0.487</td> <td>    0.734</td> <td> 0.467</td> <td>   -0.624     1.339</td>\n",
       "</tr>\n",
       "<tr>\n",
       "  <th>Female</th>    <td>   -1.0529</td> <td>    5.561</td> <td>   -0.189</td> <td> 0.851</td> <td>  -12.260    10.155</td>\n",
       "</tr>\n",
       "<tr>\n",
       "  <th>Price</th>     <td>   -3.2549</td> <td>    1.031</td> <td>   -3.156</td> <td> 0.003</td> <td>   -5.334    -1.176</td>\n",
       "</tr>\n",
       "</table>\n",
       "<table class=\"simpletable\">\n",
       "<tr>\n",
       "  <th>Omnibus:</th>       <td>56.254</td> <th>  Durbin-Watson:     </th> <td>   1.663</td>\n",
       "</tr>\n",
       "<tr>\n",
       "  <th>Prob(Omnibus):</th> <td> 0.000</td> <th>  Jarque-Bera (JB):  </th> <td> 358.088</td>\n",
       "</tr>\n",
       "<tr>\n",
       "  <th>Skew:</th>          <td> 2.842</td> <th>  Prob(JB):          </th> <td>1.75e-78</td>\n",
       "</tr>\n",
       "<tr>\n",
       "  <th>Kurtosis:</th>      <td>14.670</td> <th>  Cond. No.          </th> <td>2.37e+05</td>\n",
       "</tr>\n",
       "</table>"
      ],
      "text/plain": [
       "<class 'statsmodels.iolib.summary.Summary'>\n",
       "\"\"\"\n",
       "                            OLS Regression Results                            \n",
       "==============================================================================\n",
       "Dep. Variable:                  Sales   R-squared:                       0.321\n",
       "Model:                            OLS   Adj. R-squared:                  0.228\n",
       "Method:                 Least Squares   F-statistic:                     3.464\n",
       "Date:                Wed, 18 Mar 2015   Prob (F-statistic):            0.00686\n",
       "Time:                        12:29:16   Log-Likelihood:                -238.86\n",
       "No. Observations:                  51   AIC:                             491.7\n",
       "Df Residuals:                      44   BIC:                             505.2\n",
       "Df Model:                           6                                         \n",
       "==============================================================================\n",
       "                 coef    std err          t      P>|t|      [95.0% Conf. Int.]\n",
       "------------------------------------------------------------------------------\n",
       "Intercept    103.3448    245.607      0.421      0.676      -391.644   598.334\n",
       "Age            4.5205      3.220      1.404      0.167        -1.969    11.009\n",
       "HS            -0.0616      0.815     -0.076      0.940        -1.703     1.580\n",
       "Income         0.0189      0.010      1.855      0.070        -0.002     0.040\n",
       "Black          0.3575      0.487      0.734      0.467        -0.624     1.339\n",
       "Female        -1.0529      5.561     -0.189      0.851       -12.260    10.155\n",
       "Price         -3.2549      1.031     -3.156      0.003        -5.334    -1.176\n",
       "==============================================================================\n",
       "Omnibus:                       56.254   Durbin-Watson:                   1.663\n",
       "Prob(Omnibus):                  0.000   Jarque-Bera (JB):              358.088\n",
       "Skew:                           2.842   Prob(JB):                     1.75e-78\n",
       "Kurtosis:                      14.670   Cond. No.                     2.37e+05\n",
       "==============================================================================\n",
       "\n",
       "Warnings:\n",
       "[1] The condition number is large, 2.37e+05. This might indicate that there are\n",
       "strong multicollinearity or other numerical problems.\n",
       "\"\"\""
      ]
     },
     "execution_count": 4,
     "metadata": {},
     "output_type": "execute_result"
    }
   ],
   "source": [
    "data = pd.read_table('http://www1.aucegypt.edu/faculty/hadi/RABE5/Data5/P088.txt')\n",
    "data.head()\n",
    "\n",
    "model = smf.ols('Sales ~ Age + HS + Income + Black + Female + Price', data=data).fit()\n",
    "model.summary()"
   ]
  },
  {
   "cell_type": "markdown",
   "metadata": {},
   "source": [
    "#### Interpreting the Model Summary\n",
    "The p value is one of the most important diagnostics in the summary. Any coefficient with a large p value should not be trusted. A good rule is any p>=0.5 is not trustworthy.\n",
    "\n",
    "+ P-value for Female is 0.85 and we fail to reject the null hypothesis. The variable Female is not needed in the regression equation.\n",
    "\n",
    "\n",
    "\n",
    "R2, as discussed previously, is the total sum of the squares of the residuals. The adjusted R2 is the R2 penalized by the degrees of freedom to the number of training examples. It's typically better to rely on the adjusted R2. A good R2 is usually between 0.7 - 1.0\n",
    "\n"
   ]
  },
  {
   "cell_type": "markdown",
   "metadata": {},
   "source": [
    "#### Test the hypothesis that the variables Female and HS are not needed in the above regression equation."
   ]
  },
  {
   "cell_type": "code",
   "execution_count": 17,
   "metadata": {
    "collapsed": false
   },
   "outputs": [
    {
     "data": {
      "text/html": [
       "<div style=\"max-height:1000px;max-width:1500px;overflow:auto;\">\n",
       "<table border=\"1\" class=\"dataframe\">\n",
       "  <thead>\n",
       "    <tr style=\"text-align: right;\">\n",
       "      <th></th>\n",
       "      <th>df_resid</th>\n",
       "      <th>ssr</th>\n",
       "      <th>df_diff</th>\n",
       "      <th>ss_diff</th>\n",
       "      <th>F</th>\n",
       "      <th>Pr(&gt;F)</th>\n",
       "    </tr>\n",
       "  </thead>\n",
       "  <tbody>\n",
       "    <tr>\n",
       "      <th>0</th>\n",
       "      <td> 46</td>\n",
       "      <td> 34959.767412</td>\n",
       "      <td> 0</td>\n",
       "      <td>       NaN</td>\n",
       "      <td>     NaN</td>\n",
       "      <td>      NaN</td>\n",
       "    </tr>\n",
       "    <tr>\n",
       "      <th>1</th>\n",
       "      <td> 44</td>\n",
       "      <td> 34925.968854</td>\n",
       "      <td> 2</td>\n",
       "      <td> 33.798558</td>\n",
       "      <td> 0.02129</td>\n",
       "      <td> 0.978945</td>\n",
       "    </tr>\n",
       "  </tbody>\n",
       "</table>\n",
       "</div>"
      ],
      "text/plain": [
       "   df_resid           ssr  df_diff    ss_diff        F    Pr(>F)\n",
       "0        46  34959.767412        0        NaN      NaN       NaN\n",
       "1        44  34925.968854        2  33.798558  0.02129  0.978945"
      ]
     },
     "execution_count": 17,
     "metadata": {},
     "output_type": "execute_result"
    }
   ],
   "source": [
    "reduced_mod = smf.ols('Sales ~ Age + Income + Black + Price', data=data).fit()\n",
    "anova_lm(reduced_mod, model)"
   ]
  },
  {
   "cell_type": "markdown",
   "metadata": {},
   "source": [
    "Since the p-value for the F-test is 0.98, we fail to reject that Bfem=Bhs=0 at level 0.05."
   ]
  },
  {
   "cell_type": "markdown",
   "metadata": {},
   "source": [
    "#### Compute a 95% confidence interval for the true regression coefficient of the variable Income."
   ]
  },
  {
   "cell_type": "code",
   "execution_count": 18,
   "metadata": {
    "collapsed": false
   },
   "outputs": [
    {
     "data": {
      "text/html": [
       "<div style=\"max-height:1000px;max-width:1500px;overflow:auto;\">\n",
       "<table border=\"1\" class=\"dataframe\">\n",
       "  <thead>\n",
       "    <tr style=\"text-align: right;\">\n",
       "      <th></th>\n",
       "      <th>0</th>\n",
       "      <th>1</th>\n",
       "    </tr>\n",
       "  </thead>\n",
       "  <tbody>\n",
       "    <tr>\n",
       "      <th>Income</th>\n",
       "      <td>-0.001643</td>\n",
       "      <td> 0.039535</td>\n",
       "    </tr>\n",
       "  </tbody>\n",
       "</table>\n",
       "</div>"
      ],
      "text/plain": [
       "               0         1\n",
       "Income -0.001643  0.039535"
      ]
     },
     "execution_count": 18,
     "metadata": {},
     "output_type": "execute_result"
    }
   ],
   "source": [
    "model.conf_int(alpha=.05).iloc[3:4, :]"
   ]
  },
  {
   "cell_type": "markdown",
   "metadata": {},
   "source": [
    "#### What percentage of the variation in Sales can be accounted for when Income is removed from the above regression equation? Which model did you use?"
   ]
  },
  {
   "cell_type": "code",
   "execution_count": 22,
   "metadata": {
    "collapsed": false
   },
   "outputs": [
    {
     "data": {
      "text/html": [
       "<table class=\"simpletable\">\n",
       "<caption>OLS Regression Results</caption>\n",
       "<tr>\n",
       "  <th>Dep. Variable:</th>          <td>Sales</td>      <th>  R-squared:         </th> <td>   0.320</td>\n",
       "</tr>\n",
       "<tr>\n",
       "  <th>Model:</th>                   <td>OLS</td>       <th>  Adj. R-squared:    </th> <td>   0.261</td>\n",
       "</tr>\n",
       "<tr>\n",
       "  <th>Method:</th>             <td>Least Squares</td>  <th>  F-statistic:       </th> <td>   5.416</td>\n",
       "</tr>\n",
       "<tr>\n",
       "  <th>Date:</th>             <td>Wed, 18 Mar 2015</td> <th>  Prob (F-statistic):</th>  <td>0.00117</td>\n",
       "</tr>\n",
       "<tr>\n",
       "  <th>Time:</th>                 <td>13:39:12</td>     <th>  Log-Likelihood:    </th> <td> -238.88</td>\n",
       "</tr>\n",
       "<tr>\n",
       "  <th>No. Observations:</th>      <td>    51</td>      <th>  AIC:               </th> <td>   487.8</td>\n",
       "</tr>\n",
       "<tr>\n",
       "  <th>Df Residuals:</th>          <td>    46</td>      <th>  BIC:               </th> <td>   497.4</td>\n",
       "</tr>\n",
       "<tr>\n",
       "  <th>Df Model:</th>              <td>     4</td>      <th>                     </th>     <td> </td>   \n",
       "</tr>\n",
       "</table>\n",
       "<table class=\"simpletable\">\n",
       "<tr>\n",
       "      <td></td>         <th>coef</th>     <th>std err</th>      <th>t</th>      <th>P>|t|</th> <th>[95.0% Conf. Int.]</th> \n",
       "</tr>\n",
       "<tr>\n",
       "  <th>Intercept</th> <td>   55.3296</td> <td>   62.395</td> <td>    0.887</td> <td> 0.380</td> <td>  -70.266   180.925</td>\n",
       "</tr>\n",
       "<tr>\n",
       "  <th>Age</th>       <td>    4.1915</td> <td>    2.196</td> <td>    1.909</td> <td> 0.062</td> <td>   -0.228     8.611</td>\n",
       "</tr>\n",
       "<tr>\n",
       "  <th>Income</th>    <td>    0.0189</td> <td>    0.007</td> <td>    2.745</td> <td> 0.009</td> <td>    0.005     0.033</td>\n",
       "</tr>\n",
       "<tr>\n",
       "  <th>Black</th>     <td>    0.3342</td> <td>    0.312</td> <td>    1.071</td> <td> 0.290</td> <td>   -0.294     0.962</td>\n",
       "</tr>\n",
       "<tr>\n",
       "  <th>Price</th>     <td>   -3.2399</td> <td>    0.999</td> <td>   -3.244</td> <td> 0.002</td> <td>   -5.250    -1.230</td>\n",
       "</tr>\n",
       "</table>\n",
       "<table class=\"simpletable\">\n",
       "<tr>\n",
       "  <th>Omnibus:</th>       <td>56.030</td> <th>  Durbin-Watson:     </th> <td>   1.661</td>\n",
       "</tr>\n",
       "<tr>\n",
       "  <th>Prob(Omnibus):</th> <td> 0.000</td> <th>  Jarque-Bera (JB):  </th> <td> 350.319</td>\n",
       "</tr>\n",
       "<tr>\n",
       "  <th>Skew:</th>          <td> 2.838</td> <th>  Prob(JB):          </th> <td>8.49e-77</td>\n",
       "</tr>\n",
       "<tr>\n",
       "  <th>Kurtosis:</th>      <td>14.517</td> <th>  Cond. No.          </th> <td>6.16e+04</td>\n",
       "</tr>\n",
       "</table>"
      ],
      "text/plain": [
       "<class 'statsmodels.iolib.summary.Summary'>\n",
       "\"\"\"\n",
       "                            OLS Regression Results                            \n",
       "==============================================================================\n",
       "Dep. Variable:                  Sales   R-squared:                       0.320\n",
       "Model:                            OLS   Adj. R-squared:                  0.261\n",
       "Method:                 Least Squares   F-statistic:                     5.416\n",
       "Date:                Wed, 18 Mar 2015   Prob (F-statistic):            0.00117\n",
       "Time:                        13:39:12   Log-Likelihood:                -238.88\n",
       "No. Observations:                  51   AIC:                             487.8\n",
       "Df Residuals:                      46   BIC:                             497.4\n",
       "Df Model:                           4                                         \n",
       "==============================================================================\n",
       "                 coef    std err          t      P>|t|      [95.0% Conf. Int.]\n",
       "------------------------------------------------------------------------------\n",
       "Intercept     55.3296     62.395      0.887      0.380       -70.266   180.925\n",
       "Age            4.1915      2.196      1.909      0.062        -0.228     8.611\n",
       "Income         0.0189      0.007      2.745      0.009         0.005     0.033\n",
       "Black          0.3342      0.312      1.071      0.290        -0.294     0.962\n",
       "Price         -3.2399      0.999     -3.244      0.002        -5.250    -1.230\n",
       "==============================================================================\n",
       "Omnibus:                       56.030   Durbin-Watson:                   1.661\n",
       "Prob(Omnibus):                  0.000   Jarque-Bera (JB):              350.319\n",
       "Skew:                           2.838   Prob(JB):                     8.49e-77\n",
       "Kurtosis:                      14.517   Cond. No.                     6.16e+04\n",
       "==============================================================================\n",
       "\n",
       "Warnings:\n",
       "[1] The condition number is large, 6.16e+04. This might indicate that there are\n",
       "strong multicollinearity or other numerical problems.\n",
       "\"\"\""
      ]
     },
     "execution_count": 22,
     "metadata": {},
     "output_type": "execute_result"
    }
   ],
   "source": [
    "reduced_mod.summary()"
   ]
  },
  {
   "cell_type": "code",
   "execution_count": 23,
   "metadata": {
    "collapsed": true
   },
   "outputs": [],
   "source": []
  },
  {
   "cell_type": "code",
   "execution_count": null,
   "metadata": {
    "collapsed": true
   },
   "outputs": [],
   "source": []
  }
 ],
 "metadata": {
  "kernelspec": {
   "display_name": "Python 2",
   "language": "python",
   "name": "python2"
  },
  "language_info": {
   "codemirror_mode": {
    "name": "ipython",
    "version": 2
   },
   "file_extension": ".py",
   "mimetype": "text/x-python",
   "name": "python",
   "nbconvert_exporter": "python",
   "pygments_lexer": "ipython2",
   "version": "2.7.9"
  }
 },
 "nbformat": 4,
 "nbformat_minor": 0
}
