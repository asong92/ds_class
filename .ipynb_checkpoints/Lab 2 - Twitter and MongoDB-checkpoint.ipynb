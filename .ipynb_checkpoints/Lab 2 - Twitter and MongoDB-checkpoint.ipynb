{
 "cells": [
  {
   "cell_type": "markdown",
   "metadata": {},
   "source": [
    "## Lab 2 - Twitter and MongoDB"
   ]
  },
  {
   "cell_type": "code",
   "execution_count": 15,
   "metadata": {
    "collapsed": false
   },
   "outputs": [],
   "source": [
    "# standard library:\n",
    "import os  \n",
    "\n",
    "from pprint import pprint\n",
    "\n",
    "# other modules:\n",
    "import matplotlib.pyplot as plt\n",
    "import pandas as pd\n",
    "import twitter\n",
    "import yaml\n",
    "\n",
    "from pymongo import MongoClient"
   ]
  },
  {
   "cell_type": "code",
   "execution_count": 16,
   "metadata": {
    "collapsed": false
   },
   "outputs": [],
   "source": [
    "credentials = yaml.load(open(os.path.expanduser('~/Desktop/data science/ga_ds/wk2/credentials.yml')))\n",
    "\n",
    "auth = twitter.oauth.OAuth(credentials['ACCESS_TOKEN'], \n",
    "                           credentials['ACCESS_TOKEN_SECRET'],\n",
    "                           credentials['API_KEY'],\n",
    "                           credentials['API_SECRET'])\n",
    "\n",
    "twitter_api = twitter.Twitter(auth=auth)"
   ]
  },
  {
   "cell_type": "code",
   "execution_count": 17,
   "metadata": {
    "collapsed": false
   },
   "outputs": [
    {
     "name": "stdout",
     "output_type": "stream",
     "text": [
      "[{u'as_of': u'2015-01-24T02:26:19Z',\n",
      "  u'created_at': u'2015-01-24T02:21:45Z',\n",
      "  u'locations': [{u'name': u'Worldwide', u'woeid': 1}],\n",
      "  u'trends': [{u'name': u'#IveteNoMultishow',\n",
      "               u'promoted_content': None,\n",
      "               u'query': u'%23IveteNoMultishow',\n",
      "               u'url': u'http://twitter.com/search?q=%23IveteNoMultishow'},\n",
      "              {u'name': u'#AskWeeklyChris',\n",
      "               u'promoted_content': None,\n",
      "               u'query': u'%23AskWeeklyChris',\n",
      "               u'url': u'http://twitter.com/search?q=%23AskWeeklyChris'},\n",
      "              {u'name': u'#LarryIsImmortal',\n",
      "               u'promoted_content': None,\n",
      "               u'query': u'%23LarryIsImmortal',\n",
      "               u'url': u'http://twitter.com/search?q=%23LarryIsImmortal'},\n",
      "              {u'name': u'#MakeSexAwkwardIn5Words',\n",
      "               u'promoted_content': None,\n",
      "               u'query': u'%23MakeSexAwkwardIn5Words',\n",
      "               u'url': u'http://twitter.com/search?q=%23MakeSexAwkwardIn5Words'},\n",
      "              {u'name': u'#ViernesDeRust',\n",
      "               u'promoted_content': None,\n",
      "               u'query': u'%23ViernesDeRust',\n",
      "               u'url': u'http://twitter.com/search?q=%23ViernesDeRust'},\n",
      "              {u'name': u'Ms. D',\n",
      "               u'promoted_content': None,\n",
      "               u'query': u'%22Ms.+D%22',\n",
      "               u'url': u'http://twitter.com/search?q=%22Ms.+D%22'},\n",
      "              {u'name': u'Zatia',\n",
      "               u'promoted_content': None,\n",
      "               u'query': u'Zatia',\n",
      "               u'url': u'http://twitter.com/search?q=Zatia'},\n",
      "              {u'name': u'Giordano',\n",
      "               u'promoted_content': None,\n",
      "               u'query': u'Giordano',\n",
      "               u'url': u'http://twitter.com/search?q=Giordano'},\n",
      "              {u'name': u'Watching Bring It',\n",
      "               u'promoted_content': None,\n",
      "               u'query': u'%22Watching+Bring+It%22',\n",
      "               u'url': u'http://twitter.com/search?q=%22Watching+Bring+It%22'},\n",
      "              {u'name': u'Run Monroe',\n",
      "               u'promoted_content': None,\n",
      "               u'query': u'%22Run+Monroe%22',\n",
      "               u'url': u'http://twitter.com/search?q=%22Run+Monroe%22'}]}]\n"
     ]
    }
   ],
   "source": [
    "# The Yahoo! Where On Earth ID for the entire world is 1.\n",
    "# See https://dev.twitter.com/docs/api/1.1/get/trends/place and\n",
    "# http://developer.yahoo.com/geo/geoplanet/\n",
    "\n",
    "WORLD_WOE_ID = 1\n",
    "US_WOE_ID = 23424977\n",
    "\n",
    "# Prefix ID with the underscore for query string parameterization.\n",
    "# Without the underscore, the twitter package appends the ID value\n",
    "# to the URL itself as a special case keyword argument.\n",
    "\n",
    "world_trends = twitter_api.trends.place(_id=WORLD_WOE_ID) # returns top 10 trending topics for specific WOEID in arrays\n",
    "us_trends = twitter_api.trends.place(_id=US_WOE_ID)\n",
    "\n",
    "pprint(world_trends)"
   ]
  },
  {
   "cell_type": "code",
   "execution_count": 18,
   "metadata": {
    "collapsed": false
   },
   "outputs": [
    {
     "name": "stdout",
     "output_type": "stream",
     "text": [
      "[{u'as_of': u'2015-01-24T02:26:19Z',\n",
      "  u'created_at': u'2015-01-24T02:21:45Z',\n",
      "  u'locations': [{u'name': u'United States', u'woeid': 23424977}],\n",
      "  u'trends': [{u'name': u'#MakeSexAwkwardIn5Words',\n",
      "               u'promoted_content': None,\n",
      "               u'query': u'%23MakeSexAwkwardIn5Words',\n",
      "               u'url': u'http://twitter.com/search?q=%23MakeSexAwkwardIn5Words'},\n",
      "              {u'name': u'#AskWeeklyChris',\n",
      "               u'promoted_content': None,\n",
      "               u'query': u'%23AskWeeklyChris',\n",
      "               u'url': u'http://twitter.com/search?q=%23AskWeeklyChris'},\n",
      "              {u'name': u'#ImHomeFridayNightBecause',\n",
      "               u'promoted_content': None,\n",
      "               u'query': u'%23ImHomeFridayNightBecause',\n",
      "               u'url': u'http://twitter.com/search?q=%23ImHomeFridayNightBecause'},\n",
      "              {u'name': u'Ms. D',\n",
      "               u'promoted_content': None,\n",
      "               u'query': u'%22Ms.+D%22',\n",
      "               u'url': u'http://twitter.com/search?q=%22Ms.+D%22'},\n",
      "              {u'name': u'#5HFanuaryDay23',\n",
      "               u'promoted_content': None,\n",
      "               u'query': u'%235HFanuaryDay23',\n",
      "               u'url': u'http://twitter.com/search?q=%235HFanuaryDay23'},\n",
      "              {u'name': u'#NHLAllStarDraft',\n",
      "               u'promoted_content': None,\n",
      "               u'query': u'%23NHLAllStarDraft',\n",
      "               u'url': u'http://twitter.com/search?q=%23NHLAllStarDraft'},\n",
      "              {u'name': u'Zatia',\n",
      "               u'promoted_content': None,\n",
      "               u'query': u'Zatia',\n",
      "               u'url': u'http://twitter.com/search?q=Zatia'},\n",
      "              {u'name': u'Run Monroe',\n",
      "               u'promoted_content': None,\n",
      "               u'query': u'%22Run+Monroe%22',\n",
      "               u'url': u'http://twitter.com/search?q=%22Run+Monroe%22'},\n",
      "              {u'name': u'Mark Giordano',\n",
      "               u'promoted_content': None,\n",
      "               u'query': u'%22Mark+Giordano%22',\n",
      "               u'url': u'http://twitter.com/search?q=%22Mark+Giordano%22'},\n",
      "              {u'name': u'Sunjai',\n",
      "               u'promoted_content': None,\n",
      "               u'query': u'Sunjai',\n",
      "               u'url': u'http://twitter.com/search?q=Sunjai'}]}]\n"
     ]
    }
   ],
   "source": [
    "pprint(us_trends)"
   ]
  },
  {
   "cell_type": "code",
   "execution_count": 19,
   "metadata": {
    "collapsed": false
   },
   "outputs": [
    {
     "data": {
      "text/plain": [
       "{u'#AskWeeklyChris',\n",
       " u'#MakeSexAwkwardIn5Words',\n",
       " u'Ms. D',\n",
       " u'Run Monroe',\n",
       " u'Zatia'}"
      ]
     },
     "execution_count": 19,
     "metadata": {},
     "output_type": "execute_result"
    }
   ],
   "source": [
    "world_trends_set = set([trend['name'] for trends in world_trends \n",
    "                        for trend in trends['trends']])\n",
    "\n",
    "us_trends_set = set([trend['name'] for trends in us_trends\n",
    "                     for trend in trends['trends']]) \n",
    "\n",
    "world_trends_set.intersection(us_trends_set)"
   ]
  },
  {
   "cell_type": "code",
   "execution_count": 20,
   "metadata": {
    "collapsed": false
   },
   "outputs": [],
   "source": [
    "q = world_trends[0]['trends'][0]['name']\n",
    "\n",
    "count = 100\n",
    "\n",
    "search_results = twitter_api.search.tweets(q=q, count=count) #returns collection of tweets\n",
    "\n",
    "statuses = search_results['statuses']"
   ]
  },
  {
   "cell_type": "code",
   "execution_count": 21,
   "metadata": {
    "collapsed": false
   },
   "outputs": [
    {
     "data": {
      "text/plain": [
       "100"
      ]
     },
     "execution_count": 21,
     "metadata": {},
     "output_type": "execute_result"
    }
   ],
   "source": [
    "len(statuses)"
   ]
  },
  {
   "cell_type": "code",
   "execution_count": 22,
   "metadata": {
    "collapsed": false
   },
   "outputs": [
    {
     "data": {
      "text/plain": [
       "u'?max_id=558812735920955391&q=%23IveteNoMultishow&count=100&include_entities=1'"
      ]
     },
     "execution_count": 22,
     "metadata": {},
     "output_type": "execute_result"
    }
   ],
   "source": [
    "search_results['search_metadata'].get('next_results')"
   ]
  },
  {
   "cell_type": "code",
   "execution_count": 23,
   "metadata": {
    "collapsed": false
   },
   "outputs": [
    {
     "data": {
      "text/plain": [
       "200"
      ]
     },
     "execution_count": 23,
     "metadata": {},
     "output_type": "execute_result"
    }
   ],
   "source": [
    "if 'next_results' in search_results['search_metadata']:\n",
    "    next_results = search_results['search_metadata']['next_results']\n",
    "    kwargs = dict([ kv.split('=') for kv in next_results[1:].split(\"&\") ])\n",
    "    search_results = twitter_api.search.tweets(**kwargs)\n",
    "    statuses += search_results['statuses']\n",
    "\n",
    "len(statuses)"
   ]
  },
  {
   "cell_type": "code",
   "execution_count": 24,
   "metadata": {
    "collapsed": false
   },
   "outputs": [],
   "source": [
    "c = MongoClient()"
   ]
  },
  {
   "cell_type": "code",
   "execution_count": 25,
   "metadata": {
    "collapsed": false
   },
   "outputs": [],
   "source": [
    "# create a database called twitter\n",
    "db = c.twitter"
   ]
  },
  {
   "cell_type": "code",
   "execution_count": 26,
   "metadata": {
    "collapsed": false
   },
   "outputs": [
    {
     "data": {
      "text/plain": [
       "[ObjectId('54c302d11a128d0bd2d9c153'),\n",
       " ObjectId('54c302d11a128d0bd2d9c154'),\n",
       " ObjectId('54c302d11a128d0bd2d9c155'),\n",
       " ObjectId('54c302d11a128d0bd2d9c156'),\n",
       " ObjectId('54c302d11a128d0bd2d9c157')]"
      ]
     },
     "execution_count": 26,
     "metadata": {},
     "output_type": "execute_result"
    }
   ],
   "source": [
    "# insert results we pulled from Twitter and store them as document in a collection named tweets\n",
    "\n",
    "statuses_ids = db.tweets.insert(statuses)\n",
    "statuses_ids[:5]"
   ]
  },
  {
   "cell_type": "code",
   "execution_count": 27,
   "metadata": {
    "collapsed": false
   },
   "outputs": [
    {
     "data": {
      "text/plain": [
       "[u'local', u'twitter', u'admin']"
      ]
     },
     "execution_count": 27,
     "metadata": {},
     "output_type": "execute_result"
    }
   ],
   "source": [
    "c.database_names()"
   ]
  },
  {
   "cell_type": "code",
   "execution_count": 28,
   "metadata": {
    "collapsed": false
   },
   "outputs": [
    {
     "data": {
      "text/plain": [
       "[u'tweets', u'system.indexes']"
      ]
     },
     "execution_count": 28,
     "metadata": {},
     "output_type": "execute_result"
    }
   ],
   "source": [
    "db = c.twitter # collection object\n",
    "db.collection_names()"
   ]
  },
  {
   "cell_type": "code",
   "execution_count": 29,
   "metadata": {
    "collapsed": false
   },
   "outputs": [
    {
     "data": {
      "text/plain": [
       "{u'_id': ObjectId('54c1ca03e73d1f08c11ba61f'),\n",
       " u'contributors': None,\n",
       " u'coordinates': None,\n",
       " u'created_at': u'Fri Jan 23 04:04:11 +0000 2015',\n",
       " u'entities': {u'hashtags': [{u'indices': [0, 14], u'text': u'QuisieraTener'}],\n",
       "  u'symbols': [],\n",
       "  u'urls': [],\n",
       "  u'user_mentions': []},\n",
       " u'favorite_count': 0,\n",
       " u'favorited': False,\n",
       " u'geo': None,\n",
       " u'id': 558475253354336256L,\n",
       " u'id_str': u'558475253354336256',\n",
       " u'in_reply_to_screen_name': None,\n",
       " u'in_reply_to_status_id': None,\n",
       " u'in_reply_to_status_id_str': None,\n",
       " u'in_reply_to_user_id': None,\n",
       " u'in_reply_to_user_id_str': None,\n",
       " u'lang': u'es',\n",
       " u'metadata': {u'iso_language_code': u'es', u'result_type': u'recent'},\n",
       " u'place': None,\n",
       " u'retweet_count': 0,\n",
       " u'retweeted': False,\n",
       " u'source': u'<a href=\"http://twitter.com\" rel=\"nofollow\">Twitter Web Client</a>',\n",
       " u'text': u\"#QuisieraTener Una escalera que llegue al cielo para abrazar a mi abuelo :'(\",\n",
       " u'truncated': False,\n",
       " u'user': {u'contributors_enabled': False,\n",
       "  u'created_at': u'Sun Nov 04 18:21:27 +0000 2012',\n",
       "  u'default_profile': False,\n",
       "  u'default_profile_image': False,\n",
       "  u'description': u'Tu mirada es el lugar en el cual quiero permanecer toda mi vida\\u2654',\n",
       "  u'entities': {u'description': {u'urls': []}},\n",
       "  u'favourites_count': 104,\n",
       "  u'follow_request_sent': False,\n",
       "  u'followers_count': 72,\n",
       "  u'following': False,\n",
       "  u'friends_count': 127,\n",
       "  u'geo_enabled': False,\n",
       "  u'id': 925855926,\n",
       "  u'id_str': u'925855926',\n",
       "  u'is_translation_enabled': False,\n",
       "  u'is_translator': False,\n",
       "  u'lang': u'es',\n",
       "  u'listed_count': 0,\n",
       "  u'location': u'',\n",
       "  u'name': u'\\u2654Dianitha Suesca\\u2654',\n",
       "  u'notifications': False,\n",
       "  u'profile_background_color': u'FFFFFF',\n",
       "  u'profile_background_image_url': u'http://pbs.twimg.com/profile_background_images/555942408496480256/pn56X8Eo.jpeg',\n",
       "  u'profile_background_image_url_https': u'https://pbs.twimg.com/profile_background_images/555942408496480256/pn56X8Eo.jpeg',\n",
       "  u'profile_background_tile': True,\n",
       "  u'profile_banner_url': u'https://pbs.twimg.com/profile_banners/925855926/1421380622',\n",
       "  u'profile_image_url': u'http://pbs.twimg.com/profile_images/555936929766584320/UERKvVBl_normal.jpeg',\n",
       "  u'profile_image_url_https': u'https://pbs.twimg.com/profile_images/555936929766584320/UERKvVBl_normal.jpeg',\n",
       "  u'profile_link_color': u'000001',\n",
       "  u'profile_location': None,\n",
       "  u'profile_sidebar_border_color': u'000000',\n",
       "  u'profile_sidebar_fill_color': u'DDEEF6',\n",
       "  u'profile_text_color': u'333333',\n",
       "  u'profile_use_background_image': True,\n",
       "  u'protected': False,\n",
       "  u'screen_name': u'DianithaSuesca',\n",
       "  u'statuses_count': 174,\n",
       "  u'time_zone': u'Eastern Time (US & Canada)',\n",
       "  u'url': None,\n",
       "  u'utc_offset': -18000,\n",
       "  u'verified': False}}"
      ]
     },
     "execution_count": 29,
     "metadata": {},
     "output_type": "execute_result"
    }
   ],
   "source": [
    "db.tweets.find_one()"
   ]
  },
  {
   "cell_type": "code",
   "execution_count": 30,
   "metadata": {
    "collapsed": false
   },
   "outputs": [
    {
     "data": {
      "text/plain": [
       "145"
      ]
     },
     "execution_count": 30,
     "metadata": {},
     "output_type": "execute_result"
    }
   ],
   "source": [
    "popular_tweets = db.tweets.find({'retweet_count':{\"$gte\":3}}) # get tweets that have been retweeted 3 or more times\n",
    "popular_tweets.count()\n",
    "                                                "
   ]
  },
  {
   "cell_type": "code",
   "execution_count": 32,
   "metadata": {
    "collapsed": false
   },
   "outputs": [],
   "source": [
    "#pd.DataFrame(db.tweets.find(fields=['created_at', 'retweet_count', 'favorite_count'])) # creates dataframe of tweet document with specified fields\n"
   ]
  },
  {
   "cell_type": "code",
   "execution_count": 33,
   "metadata": {
    "collapsed": false
   },
   "outputs": [
    {
     "data": {
      "text/html": [
       "<div style=\"max-height:1000px;max-width:1500px;overflow:auto;\">\n",
       "<table border=\"1\" class=\"dataframe\">\n",
       "  <thead>\n",
       "    <tr style=\"text-align: right;\">\n",
       "      <th></th>\n",
       "      <th>_id</th>\n",
       "      <th>created_at</th>\n",
       "      <th>favorite_count</th>\n",
       "      <th>retweet_count</th>\n",
       "    </tr>\n",
       "  </thead>\n",
       "  <tbody>\n",
       "    <tr>\n",
       "      <th>0</th>\n",
       "      <td> 54c1ca03e73d1f08c11ba61f</td>\n",
       "      <td> Fri Jan 23 04:04:11 +0000 2015</td>\n",
       "      <td> 0</td>\n",
       "      <td>  0</td>\n",
       "    </tr>\n",
       "    <tr>\n",
       "      <th>1</th>\n",
       "      <td> 54c1ca03e73d1f08c11ba626</td>\n",
       "      <td> Fri Jan 23 04:04:06 +0000 2015</td>\n",
       "      <td> 0</td>\n",
       "      <td>  0</td>\n",
       "    </tr>\n",
       "    <tr>\n",
       "      <th>2</th>\n",
       "      <td> 54c1ca03e73d1f08c11ba61e</td>\n",
       "      <td> Fri Jan 23 04:04:12 +0000 2015</td>\n",
       "      <td> 0</td>\n",
       "      <td> 27</td>\n",
       "    </tr>\n",
       "    <tr>\n",
       "      <th>3</th>\n",
       "      <td> 54c1ca03e73d1f08c11ba620</td>\n",
       "      <td> Fri Jan 23 04:04:10 +0000 2015</td>\n",
       "      <td> 0</td>\n",
       "      <td>  0</td>\n",
       "    </tr>\n",
       "    <tr>\n",
       "      <th>4</th>\n",
       "      <td> 54c1ca03e73d1f08c11ba621</td>\n",
       "      <td> Fri Jan 23 04:04:09 +0000 2015</td>\n",
       "      <td> 0</td>\n",
       "      <td> 14</td>\n",
       "    </tr>\n",
       "  </tbody>\n",
       "</table>\n",
       "</div>"
      ],
      "text/plain": [
       "                        _id                      created_at  favorite_count  \\\n",
       "0  54c1ca03e73d1f08c11ba61f  Fri Jan 23 04:04:11 +0000 2015               0   \n",
       "1  54c1ca03e73d1f08c11ba626  Fri Jan 23 04:04:06 +0000 2015               0   \n",
       "2  54c1ca03e73d1f08c11ba61e  Fri Jan 23 04:04:12 +0000 2015               0   \n",
       "3  54c1ca03e73d1f08c11ba620  Fri Jan 23 04:04:10 +0000 2015               0   \n",
       "4  54c1ca03e73d1f08c11ba621  Fri Jan 23 04:04:09 +0000 2015               0   \n",
       "\n",
       "   retweet_count  \n",
       "0              0  \n",
       "1              0  \n",
       "2             27  \n",
       "3              0  \n",
       "4             14  "
      ]
     },
     "execution_count": 33,
     "metadata": {},
     "output_type": "execute_result"
    }
   ],
   "source": [
    "retweet_favorites = pd.DataFrame(list(db.tweets.find(fields=['created_at','retweet_count','favorite_count'])))\n",
    "# collection.find returns an iterable object so we need to turn it into a list\n",
    "\n",
    "retweet_favorites.head()"
   ]
  },
  {
   "cell_type": "code",
   "execution_count": 34,
   "metadata": {
    "collapsed": false
   },
   "outputs": [
    {
     "data": {
      "text/html": [
       "<div style=\"max-height:1000px;max-width:1500px;overflow:auto;\">\n",
       "<table border=\"1\" class=\"dataframe\">\n",
       "  <thead>\n",
       "    <tr style=\"text-align: right;\">\n",
       "      <th></th>\n",
       "      <th>favorite_count</th>\n",
       "      <th>retweet_count</th>\n",
       "    </tr>\n",
       "  </thead>\n",
       "  <tbody>\n",
       "    <tr>\n",
       "      <th>count</th>\n",
       "      <td> 400.000000</td>\n",
       "      <td> 400.000000</td>\n",
       "    </tr>\n",
       "    <tr>\n",
       "      <th>mean</th>\n",
       "      <td>   0.147500</td>\n",
       "      <td>  23.355000</td>\n",
       "    </tr>\n",
       "    <tr>\n",
       "      <th>std</th>\n",
       "      <td>   1.122003</td>\n",
       "      <td>  56.078391</td>\n",
       "    </tr>\n",
       "    <tr>\n",
       "      <th>min</th>\n",
       "      <td>   0.000000</td>\n",
       "      <td>   0.000000</td>\n",
       "    </tr>\n",
       "    <tr>\n",
       "      <th>25%</th>\n",
       "      <td>   0.000000</td>\n",
       "      <td>   0.000000</td>\n",
       "    </tr>\n",
       "    <tr>\n",
       "      <th>50%</th>\n",
       "      <td>   0.000000</td>\n",
       "      <td>   1.000000</td>\n",
       "    </tr>\n",
       "    <tr>\n",
       "      <th>75%</th>\n",
       "      <td>   0.000000</td>\n",
       "      <td>  14.000000</td>\n",
       "    </tr>\n",
       "    <tr>\n",
       "      <th>max</th>\n",
       "      <td>  16.000000</td>\n",
       "      <td> 302.000000</td>\n",
       "    </tr>\n",
       "  </tbody>\n",
       "</table>\n",
       "</div>"
      ],
      "text/plain": [
       "       favorite_count  retweet_count\n",
       "count      400.000000     400.000000\n",
       "mean         0.147500      23.355000\n",
       "std          1.122003      56.078391\n",
       "min          0.000000       0.000000\n",
       "25%          0.000000       0.000000\n",
       "50%          0.000000       1.000000\n",
       "75%          0.000000      14.000000\n",
       "max         16.000000     302.000000"
      ]
     },
     "execution_count": 34,
     "metadata": {},
     "output_type": "execute_result"
    }
   ],
   "source": [
    "# .describe() is a useful method to get the gist of our data.\n",
    "retweet_favorites.describe()"
   ]
  },
  {
   "cell_type": "code",
   "execution_count": 35,
   "metadata": {
    "collapsed": false
   },
   "outputs": [
    {
     "data": {
      "text/plain": [
       "_id               object\n",
       "created_at        object\n",
       "favorite_count     int64\n",
       "retweet_count      int64\n",
       "dtype: object"
      ]
     },
     "execution_count": 35,
     "metadata": {},
     "output_type": "execute_result"
    }
   ],
   "source": [
    "retweet_favorites.dtypes"
   ]
  },
  {
   "cell_type": "code",
   "execution_count": 36,
   "metadata": {
    "collapsed": false
   },
   "outputs": [
    {
     "data": {
      "text/plain": [
       "count                                400\n",
       "unique                               192\n",
       "top       Sat Jan 24 02:25:03 +0000 2015\n",
       "freq                                   7\n",
       "Name: created_at, dtype: object"
      ]
     },
     "execution_count": 36,
     "metadata": {},
     "output_type": "execute_result"
    }
   ],
   "source": [
    "# .describe() can be called on individual columns (i.e. Series), even if they are not numeric.\n",
    "retweet_favorites.created_at.describe()"
   ]
  },
  {
   "cell_type": "code",
   "execution_count": 37,
   "metadata": {
    "collapsed": false
   },
   "outputs": [
    {
     "data": {
      "text/plain": [
       "count                     400\n",
       "unique                    192\n",
       "top       2015-01-24 02:25:03\n",
       "freq                        7\n",
       "first     2015-01-23 04:01:44\n",
       "last      2015-01-24 02:25:59\n",
       "Name: created_at, dtype: object"
      ]
     },
     "execution_count": 37,
     "metadata": {},
     "output_type": "execute_result"
    }
   ],
   "source": [
    "# created_at is being treated as a string so we want to use pandas.to_datetime to change that to a datetime\n",
    "retweet_favorites.created_at.map(pd.to_datetime).describe()"
   ]
  },
  {
   "cell_type": "code",
   "execution_count": 38,
   "metadata": {
    "collapsed": false
   },
   "outputs": [
    {
     "data": {
      "text/html": [
       "<div style=\"max-height:1000px;max-width:1500px;overflow:auto;\">\n",
       "<table border=\"1\" class=\"dataframe\">\n",
       "  <thead>\n",
       "    <tr style=\"text-align: right;\">\n",
       "      <th></th>\n",
       "      <th>_id</th>\n",
       "      <th>entities</th>\n",
       "      <th>user</th>\n",
       "    </tr>\n",
       "  </thead>\n",
       "  <tbody>\n",
       "    <tr>\n",
       "      <th>0</th>\n",
       "      <td> 54c1ca03e73d1f08c11ba61f</td>\n",
       "      <td>                            {u'user_mentions': []}</td>\n",
       "      <td>   {u'followers_count': 72}</td>\n",
       "    </tr>\n",
       "    <tr>\n",
       "      <th>1</th>\n",
       "      <td> 54c1ca03e73d1f08c11ba626</td>\n",
       "      <td>                            {u'user_mentions': []}</td>\n",
       "      <td>   {u'followers_count': 50}</td>\n",
       "    </tr>\n",
       "    <tr>\n",
       "      <th>2</th>\n",
       "      <td> 54c1ca03e73d1f08c11ba61e</td>\n",
       "      <td> {u'user_mentions': [{u'indices': [3, 16], u'sc...</td>\n",
       "      <td> {u'followers_count': 1188}</td>\n",
       "    </tr>\n",
       "    <tr>\n",
       "      <th>3</th>\n",
       "      <td> 54c1ca03e73d1f08c11ba620</td>\n",
       "      <td>                            {u'user_mentions': []}</td>\n",
       "      <td>  {u'followers_count': 381}</td>\n",
       "    </tr>\n",
       "    <tr>\n",
       "      <th>4</th>\n",
       "      <td> 54c1ca03e73d1f08c11ba621</td>\n",
       "      <td> {u'user_mentions': [{u'indices': [3, 14], u'sc...</td>\n",
       "      <td>  {u'followers_count': 173}</td>\n",
       "    </tr>\n",
       "  </tbody>\n",
       "</table>\n",
       "</div>"
      ],
      "text/plain": [
       "                        _id  \\\n",
       "0  54c1ca03e73d1f08c11ba61f   \n",
       "1  54c1ca03e73d1f08c11ba626   \n",
       "2  54c1ca03e73d1f08c11ba61e   \n",
       "3  54c1ca03e73d1f08c11ba620   \n",
       "4  54c1ca03e73d1f08c11ba621   \n",
       "\n",
       "                                            entities  \\\n",
       "0                             {u'user_mentions': []}   \n",
       "1                             {u'user_mentions': []}   \n",
       "2  {u'user_mentions': [{u'indices': [3, 16], u'sc...   \n",
       "3                             {u'user_mentions': []}   \n",
       "4  {u'user_mentions': [{u'indices': [3, 14], u'sc...   \n",
       "\n",
       "                         user  \n",
       "0    {u'followers_count': 72}  \n",
       "1    {u'followers_count': 50}  \n",
       "2  {u'followers_count': 1188}  \n",
       "3   {u'followers_count': 381}  \n",
       "4   {u'followers_count': 173}  "
      ]
     },
     "execution_count": 38,
     "metadata": {},
     "output_type": "execute_result"
    }
   ],
   "source": [
    "# mongo allows us to access subfields directly\n",
    "mentions_followers = list(db.tweets.find(fields=['entities.user_mentions', 'user.followers_count']))\n",
    "pd.DataFrame(mentions_followers).head()"
   ]
  },
  {
   "cell_type": "code",
   "execution_count": 39,
   "metadata": {
    "collapsed": false
   },
   "outputs": [
    {
     "data": {
      "text/html": [
       "<div style=\"max-height:1000px;max-width:1500px;overflow:auto;\">\n",
       "<table border=\"1\" class=\"dataframe\">\n",
       "  <thead>\n",
       "    <tr style=\"text-align: right;\">\n",
       "      <th></th>\n",
       "      <th>followers_count</th>\n",
       "      <th>user_mentions</th>\n",
       "    </tr>\n",
       "  </thead>\n",
       "  <tbody>\n",
       "    <tr>\n",
       "      <th>0</th>\n",
       "      <td>   72</td>\n",
       "      <td> 0</td>\n",
       "    </tr>\n",
       "    <tr>\n",
       "      <th>1</th>\n",
       "      <td>   50</td>\n",
       "      <td> 0</td>\n",
       "    </tr>\n",
       "    <tr>\n",
       "      <th>2</th>\n",
       "      <td> 1188</td>\n",
       "      <td> 1</td>\n",
       "    </tr>\n",
       "    <tr>\n",
       "      <th>3</th>\n",
       "      <td>  381</td>\n",
       "      <td> 0</td>\n",
       "    </tr>\n",
       "    <tr>\n",
       "      <th>4</th>\n",
       "      <td>  173</td>\n",
       "      <td> 1</td>\n",
       "    </tr>\n",
       "  </tbody>\n",
       "</table>\n",
       "</div>"
      ],
      "text/plain": [
       "   followers_count  user_mentions\n",
       "0               72              0\n",
       "1               50              0\n",
       "2             1188              1\n",
       "3              381              0\n",
       "4              173              1"
      ]
     },
     "execution_count": 39,
     "metadata": {},
     "output_type": "execute_result"
    }
   ],
   "source": [
    "# pandas does not know how to parse sub-documents \n",
    "mentions_followers_df = pd.DataFrame({'user_mentions': len(tweet['entities']['user_mentions']), \n",
    "                                     'followers_count': tweet['user'].get('followers_count')} for tweet in mentions_followers)\n",
    "\n",
    "mentions_followers_df.head()"
   ]
  },
  {
   "cell_type": "code",
   "execution_count": 40,
   "metadata": {
    "collapsed": false
   },
   "outputs": [
    {
     "data": {
      "text/html": [
       "<div style=\"max-height:1000px;max-width:1500px;overflow:auto;\">\n",
       "<table border=\"1\" class=\"dataframe\">\n",
       "  <thead>\n",
       "    <tr style=\"text-align: right;\">\n",
       "      <th></th>\n",
       "      <th>followers_count</th>\n",
       "      <th>user_mentions</th>\n",
       "    </tr>\n",
       "  </thead>\n",
       "  <tbody>\n",
       "    <tr>\n",
       "      <th>followers_count</th>\n",
       "      <td> 1.0000</td>\n",
       "      <td>-0.0751</td>\n",
       "    </tr>\n",
       "    <tr>\n",
       "      <th>user_mentions</th>\n",
       "      <td>-0.0751</td>\n",
       "      <td> 1.0000</td>\n",
       "    </tr>\n",
       "  </tbody>\n",
       "</table>\n",
       "</div>"
      ],
      "text/plain": [
       "                 followers_count  user_mentions\n",
       "followers_count           1.0000        -0.0751\n",
       "user_mentions            -0.0751         1.0000"
      ]
     },
     "execution_count": 40,
     "metadata": {},
     "output_type": "execute_result"
    }
   ],
   "source": [
    "# Are user_mentions and followers_count correlated?\n",
    "\n",
    "plt.scatter(mentions_followers_df.user_mentions, mentions_followers_df.followers_count)\n",
    "mentions_followers_df.corr()"
   ]
  },
  {
   "cell_type": "code",
   "execution_count": 41,
   "metadata": {
    "collapsed": false
   },
   "outputs": [
    {
     "data": {
      "text/plain": [
       "<matplotlib.collections.PathCollection at 0x10ee10990>"
      ]
     },
     "execution_count": 41,
     "metadata": {},
     "output_type": "execute_result"
    },
    {
     "data": {
      "image/png": "[encoded data removed]",
      "text/plain": [
       "<matplotlib.figure.Figure at 0x10ecf4d90>"
      ]
     },
     "metadata": {},
     "output_type": "display_data"
    }
   ],
   "source": [
    "%matplotlib inline\n",
    "plt.scatter(mentions_followers_df.user_mentions, mentions_followers_df.followers_count)"
   ]
  },
  {
   "cell_type": "code",
   "execution_count": 47,
   "metadata": {
    "collapsed": false
   },
   "outputs": [],
   "source": [
    "\n",
    "# The Yahoo! Where On Earth ID of Canada is 23424775.\n",
    "# Use it to find Twitter trends in Canada and compare it to US trends. What's the difference between them?\n",
    "# Insert the last 100 tweets for all Canada-only trends into a canada collection.\n",
    "# Insert the last 100 tweets for all US-only trends into a us collections.\n",
    "# For this (small and not very representative) sample, which users have the highest follower_count?\n",
    "\n",
    "CANADA_WOE_ID = 23424775\n",
    "\n",
    "canada_trends = twitter_api.trends.place(_id=CANADA_WOE_ID)\n",
    "\n",
    "canada_trends_set = set([trend['name'] for trends in canada_trends\n",
    "                     for trend in trends['trends']]) "
   ]
  },
  {
   "cell_type": "code",
   "execution_count": 48,
   "metadata": {
    "collapsed": false
   },
   "outputs": [
    {
     "data": {
      "text/plain": [
       "{u'#5HFanuaryDay23',\n",
       " u'#AskWeeklyChris',\n",
       " u'#ImHomeFridayNightBecause',\n",
       " u'#NHLAllStarDraft',\n",
       " u'Mark Giordano',\n",
       " u'Ms. D',\n",
       " u'Run Monroe',\n",
       " u'Sunjai',\n",
       " u'Zatia'}"
      ]
     },
     "execution_count": 48,
     "metadata": {},
     "output_type": "execute_result"
    }
   ],
   "source": [
    "us_trends_set.difference(canada_trends_set) # us_trends_set - canada_trends_set"
   ]
  },
  {
   "cell_type": "code",
   "execution_count": 49,
   "metadata": {
    "collapsed": false
   },
   "outputs": [
    {
     "data": {
      "text/plain": [
       "{u'#LeafsIn5Words',\n",
       " u'#NHLAllStar',\n",
       " u'#TeamToews',\n",
       " u'#pharmacists',\n",
       " u'Brent Burns',\n",
       " u'Lowry',\n",
       " u'Ovechkin',\n",
       " u'Phil Kessel',\n",
       " u'Pierre McGuire'}"
      ]
     },
     "execution_count": 49,
     "metadata": {},
     "output_type": "execute_result"
    }
   ],
   "source": [
    "canada_trends_set.difference(us_trends_set) # canada_trends_set - us_trends_set"
   ]
  },
  {
   "cell_type": "code",
   "execution_count": 54,
   "metadata": {
    "collapsed": false
   },
   "outputs": [],
   "source": [
    "# Insert the last 100 tweets for all Canada-only trends into a canada collection.\n",
    "canada_tweet_collection = []\n",
    "\n",
    "for t in canada_trends:\n",
    "    q = t['trends'][0]['name']\n",
    "    search_results = twitter_api.search.tweets(q=q, count=100)\n",
    "    canada_tweet_collection += search_results['statuses']\n",
    "\n",
    "\n",
    "# For this (small and not very representative) sample, which users have the highest follower_count?"
   ]
  },
  {
   "cell_type": "code",
   "execution_count": 55,
   "metadata": {
    "collapsed": false
   },
   "outputs": [
    {
     "data": {
      "text/plain": [
       "100"
      ]
     },
     "execution_count": 55,
     "metadata": {},
     "output_type": "execute_result"
    }
   ],
   "source": [
    "len(canada_tweet_collection)"
   ]
  },
  {
   "cell_type": "code",
   "execution_count": 57,
   "metadata": {
    "collapsed": false
   },
   "outputs": [
    {
     "data": {
      "text/plain": [
       "{u'contributors': None,\n",
       " u'coordinates': None,\n",
       " u'created_at': u'Sat Jan 24 03:03:56 +0000 2015',\n",
       " u'entities': {u'hashtags': [{u'indices': [15, 25], u'text': u'TeamToews'},\n",
       "   {u'indices': [30, 42], u'text': u'TeamFoligno'},\n",
       "   {u'indices': [43, 54], u'text': u'NHLAllStar'}],\n",
       "  u'media': [{u'display_url': u'pic.twitter.com/86R0AVUnbX',\n",
       "    u'expanded_url': u'http://twitter.com/NHL/status/558784978772054016/photo/1',\n",
       "    u'id': 558784961562820608,\n",
       "    u'id_str': u'558784961562820608',\n",
       "    u'indices': [77, 99],\n",
       "    u'media_url': u'http://pbs.twimg.com/media/B8Ez9kPIQAA_zbE.jpg',\n",
       "    u'media_url_https': u'https://pbs.twimg.com/media/B8Ez9kPIQAA_zbE.jpg',\n",
       "    u'sizes': {u'large': {u'h': 768, u'resize': u'fit', u'w': 1024},\n",
       "     u'medium': {u'h': 450, u'resize': u'fit', u'w': 600},\n",
       "     u'small': {u'h': 255, u'resize': u'fit', u'w': 340},\n",
       "     u'thumb': {u'h': 150, u'resize': u'crop', u'w': 150}},\n",
       "    u'source_status_id': 558784978772054016,\n",
       "    u'source_status_id_str': u'558784978772054016',\n",
       "    u'source_user_id': 50004938,\n",
       "    u'source_user_id_str': u'50004938',\n",
       "    u'type': u'photo',\n",
       "    u'url': u'http://t.co/86R0AVUnbX'}],\n",
       "  u'symbols': [],\n",
       "  u'urls': [],\n",
       "  u'user_mentions': [{u'id': 50004938,\n",
       "    u'id_str': u'50004938',\n",
       "    u'indices': [3, 7],\n",
       "    u'name': u'NHL',\n",
       "    u'screen_name': u'NHL'}]},\n",
       " u'favorite_count': 0,\n",
       " u'favorited': False,\n",
       " u'geo': None,\n",
       " u'id': 558822481654321154,\n",
       " u'id_str': u'558822481654321154',\n",
       " u'in_reply_to_screen_name': None,\n",
       " u'in_reply_to_status_id': None,\n",
       " u'in_reply_to_status_id_str': None,\n",
       " u'in_reply_to_user_id': None,\n",
       " u'in_reply_to_user_id_str': None,\n",
       " u'lang': u'en',\n",
       " u'metadata': {u'iso_language_code': u'en', u'result_type': u'recent'},\n",
       " u'place': None,\n",
       " u'possibly_sensitive': False,\n",
       " u'retweet_count': 58,\n",
       " u'retweeted': False,\n",
       " u'retweeted_status': {u'contributors': None,\n",
       "  u'coordinates': None,\n",
       "  u'created_at': u'Sat Jan 24 00:34:55 +0000 2015',\n",
       "  u'entities': {u'hashtags': [{u'indices': [6, 16], u'text': u'TeamToews'},\n",
       "    {u'indices': [21, 33], u'text': u'TeamFoligno'},\n",
       "    {u'indices': [34, 45], u'text': u'NHLAllStar'}],\n",
       "   u'media': [{u'display_url': u'pic.twitter.com/86R0AVUnbX',\n",
       "     u'expanded_url': u'http://twitter.com/NHL/status/558784978772054016/photo/1',\n",
       "     u'id': 558784961562820608,\n",
       "     u'id_str': u'558784961562820608',\n",
       "     u'indices': [68, 90],\n",
       "     u'media_url': u'http://pbs.twimg.com/media/B8Ez9kPIQAA_zbE.jpg',\n",
       "     u'media_url_https': u'https://pbs.twimg.com/media/B8Ez9kPIQAA_zbE.jpg',\n",
       "     u'sizes': {u'large': {u'h': 768, u'resize': u'fit', u'w': 1024},\n",
       "      u'medium': {u'h': 450, u'resize': u'fit', u'w': 600},\n",
       "      u'small': {u'h': 255, u'resize': u'fit', u'w': 340},\n",
       "      u'thumb': {u'h': 150, u'resize': u'crop', u'w': 150}},\n",
       "     u'type': u'photo',\n",
       "     u'url': u'http://t.co/86R0AVUnbX'}],\n",
       "   u'symbols': [],\n",
       "   u'urls': [],\n",
       "   u'user_mentions': []},\n",
       "  u'favorite_count': 141,\n",
       "  u'favorited': False,\n",
       "  u'geo': None,\n",
       "  u'id': 558784978772054016,\n",
       "  u'id_str': u'558784978772054016',\n",
       "  u'in_reply_to_screen_name': None,\n",
       "  u'in_reply_to_status_id': None,\n",
       "  u'in_reply_to_status_id_str': None,\n",
       "  u'in_reply_to_user_id': None,\n",
       "  u'in_reply_to_user_id_str': None,\n",
       "  u'lang': u'en',\n",
       "  u'metadata': {u'iso_language_code': u'en', u'result_type': u'recent'},\n",
       "  u'place': None,\n",
       "  u'possibly_sensitive': False,\n",
       "  u'retweet_count': 58,\n",
       "  u'retweeted': False,\n",
       "  u'source': u'<a href=\"http://twitter.com/download/iphone\" rel=\"nofollow\">Twitter for iPhone</a>',\n",
       "  u'text': u'Soon, #TeamToews and #TeamFoligno #NHLAllStar rosters will be born. http://t.co/86R0AVUnbX',\n",
       "  u'truncated': False,\n",
       "  u'user': {u'contributors_enabled': False,\n",
       "   u'created_at': u'Tue Jun 23 15:24:18 +0000 2009',\n",
       "   u'default_profile': False,\n",
       "   u'default_profile_image': False,\n",
       "   u'description': u\"Have NHL hockey on the go by downloading the NHL App. Oh, and did you know we're on Snapchat ('nhl')? Read before tweeting us: http://t.co/JlyVXSH1Ur\",\n",
       "   u'entities': {u'description': {u'urls': [{u'display_url': u'nhl.com/socialmediapol\\u2026',\n",
       "       u'expanded_url': u'http://nhl.com/socialmediapolicy',\n",
       "       u'indices': [127, 149],\n",
       "       u'url': u'http://t.co/JlyVXSH1Ur'}]},\n",
       "    u'url': {u'urls': [{u'display_url': u'instagram.com/nhl',\n",
       "       u'expanded_url': u'http://instagram.com/nhl',\n",
       "       u'indices': [0, 22],\n",
       "       u'url': u'http://t.co/ewdXlKB9w6'}]}},\n",
       "   u'favourites_count': 551,\n",
       "   u'follow_request_sent': False,\n",
       "   u'followers_count': 3066286,\n",
       "   u'following': False,\n",
       "   u'friends_count': 6738,\n",
       "   u'geo_enabled': True,\n",
       "   u'id': 50004938,\n",
       "   u'id_str': u'50004938',\n",
       "   u'is_translation_enabled': True,\n",
       "   u'is_translator': False,\n",
       "   u'lang': u'en',\n",
       "   u'listed_count': 17633,\n",
       "   u'location': u'30 cities across U.S. & Canada',\n",
       "   u'name': u'NHL',\n",
       "   u'notifications': False,\n",
       "   u'profile_background_color': u'000000',\n",
       "   u'profile_background_image_url': u'http://pbs.twimg.com/profile_background_images/378800000139631457/fd-xWa9G.jpeg',\n",
       "   u'profile_background_image_url_https': u'https://pbs.twimg.com/profile_background_images/378800000139631457/fd-xWa9G.jpeg',\n",
       "   u'profile_background_tile': False,\n",
       "   u'profile_banner_url': u'https://pbs.twimg.com/profile_banners/50004938/1421429522',\n",
       "   u'profile_image_url': u'http://pbs.twimg.com/profile_images/534776558238437376/yxrm83O7_normal.jpeg',\n",
       "   u'profile_image_url_https': u'https://pbs.twimg.com/profile_images/534776558238437376/yxrm83O7_normal.jpeg',\n",
       "   u'profile_link_color': u'040CDE',\n",
       "   u'profile_location': None,\n",
       "   u'profile_sidebar_border_color': u'FFFFFF',\n",
       "   u'profile_sidebar_fill_color': u'2E2E2E',\n",
       "   u'profile_text_color': u'0F5A80',\n",
       "   u'profile_use_background_image': True,\n",
       "   u'protected': False,\n",
       "   u'screen_name': u'NHL',\n",
       "   u'statuses_count': 76992,\n",
       "   u'time_zone': u'Eastern Time (US & Canada)',\n",
       "   u'url': u'http://t.co/ewdXlKB9w6',\n",
       "   u'utc_offset': -18000,\n",
       "   u'verified': True}},\n",
       " u'source': u'<a href=\"http://twitter.com/download/android\" rel=\"nofollow\">Twitter for Android</a>',\n",
       " u'text': u'RT @NHL: Soon, #TeamToews and #TeamFoligno #NHLAllStar rosters will be born. http://t.co/86R0AVUnbX',\n",
       " u'truncated': False,\n",
       " u'user': {u'contributors_enabled': False,\n",
       "  u'created_at': u'Sun Jul 06 20:23:55 +0000 2014',\n",
       "  u'default_profile': True,\n",
       "  u'default_profile_image': False,\n",
       "  u'description': u'tainted',\n",
       "  u'entities': {u'description': {u'urls': []}},\n",
       "  u'favourites_count': 11978,\n",
       "  u'follow_request_sent': False,\n",
       "  u'followers_count': 449,\n",
       "  u'following': False,\n",
       "  u'friends_count': 284,\n",
       "  u'geo_enabled': False,\n",
       "  u'id': 2608267172,\n",
       "  u'id_str': u'2608267172',\n",
       "  u'is_translation_enabled': False,\n",
       "  u'is_translator': False,\n",
       "  u'lang': u'en',\n",
       "  u'listed_count': 1,\n",
       "  u'location': u'',\n",
       "  u'name': u'Toni Marie',\n",
       "  u'notifications': False,\n",
       "  u'profile_background_color': u'C0DEED',\n",
       "  u'profile_background_image_url': u'http://abs.twimg.com/images/themes/theme1/bg.png',\n",
       "  u'profile_background_image_url_https': u'https://abs.twimg.com/images/themes/theme1/bg.png',\n",
       "  u'profile_background_tile': False,\n",
       "  u'profile_banner_url': u'https://pbs.twimg.com/profile_banners/2608267172/1420074019',\n",
       "  u'profile_image_url': u'http://pbs.twimg.com/profile_images/546574432836149248/TZGyyLFq_normal.jpeg',\n",
       "  u'profile_image_url_https': u'https://pbs.twimg.com/profile_images/546574432836149248/TZGyyLFq_normal.jpeg',\n",
       "  u'profile_link_color': u'0084B4',\n",
       "  u'profile_location': None,\n",
       "  u'profile_sidebar_border_color': u'C0DEED',\n",
       "  u'profile_sidebar_fill_color': u'DDEEF6',\n",
       "  u'profile_text_color': u'333333',\n",
       "  u'profile_use_background_image': True,\n",
       "  u'protected': False,\n",
       "  u'screen_name': u'marie_toni_',\n",
       "  u'statuses_count': 24585,\n",
       "  u'time_zone': None,\n",
       "  u'url': None,\n",
       "  u'utc_offset': None,\n",
       "  u'verified': False}}"
      ]
     },
     "execution_count": 57,
     "metadata": {},
     "output_type": "execute_result"
    }
   ],
   "source": [
    "canada_tweet_collection[0]"
   ]
  },
  {
   "cell_type": "code",
   "execution_count": 58,
   "metadata": {
    "collapsed": false
   },
   "outputs": [],
   "source": [
    "# Insert the last 100 tweets for all US-only trends into a us collections.\n",
    "us_tweet_collection = []\n",
    "\n",
    "for t in us_trends:\n",
    "    q = t['trends'][0]['name']\n",
    "    search_results = twitter_api.search.tweets(q=q, count=100)\n",
    "    us_tweet_collection += search_results['statuses']\n"
   ]
  },
  {
   "cell_type": "code",
   "execution_count": 76,
   "metadata": {
    "collapsed": false
   },
   "outputs": [],
   "source": [
    "# For this (small and not very representative) sample, which users have the highest follower_count?\n",
    "canada_tweets = pd.DataFrame(canada_tweet_collection)[['user']]"
   ]
  },
  {
   "cell_type": "code",
   "execution_count": 77,
   "metadata": {
    "collapsed": false
   },
   "outputs": [
    {
     "data": {
      "text/html": [
       "<div style=\"max-height:1000px;max-width:1500px;overflow:auto;\">\n",
       "<table border=\"1\" class=\"dataframe\">\n",
       "  <thead>\n",
       "    <tr style=\"text-align: right;\">\n",
       "      <th></th>\n",
       "      <th>user</th>\n",
       "    </tr>\n",
       "  </thead>\n",
       "  <tbody>\n",
       "    <tr>\n",
       "      <th>0</th>\n",
       "      <td> {u'follow_request_sent': False, u'profile_use_...</td>\n",
       "    </tr>\n",
       "    <tr>\n",
       "      <th>1</th>\n",
       "      <td> {u'follow_request_sent': False, u'profile_use_...</td>\n",
       "    </tr>\n",
       "    <tr>\n",
       "      <th>2</th>\n",
       "      <td> {u'follow_request_sent': False, u'profile_use_...</td>\n",
       "    </tr>\n",
       "    <tr>\n",
       "      <th>3</th>\n",
       "      <td> {u'follow_request_sent': False, u'profile_use_...</td>\n",
       "    </tr>\n",
       "    <tr>\n",
       "      <th>4</th>\n",
       "      <td> {u'follow_request_sent': False, u'profile_use_...</td>\n",
       "    </tr>\n",
       "  </tbody>\n",
       "</table>\n",
       "</div>"
      ],
      "text/plain": [
       "                                                user\n",
       "0  {u'follow_request_sent': False, u'profile_use_...\n",
       "1  {u'follow_request_sent': False, u'profile_use_...\n",
       "2  {u'follow_request_sent': False, u'profile_use_...\n",
       "3  {u'follow_request_sent': False, u'profile_use_...\n",
       "4  {u'follow_request_sent': False, u'profile_use_..."
      ]
     },
     "execution_count": 77,
     "metadata": {},
     "output_type": "execute_result"
    }
   ],
   "source": [
    "canada_tweets.head()"
   ]
  },
  {
   "cell_type": "code",
   "execution_count": 79,
   "metadata": {
    "collapsed": false
   },
   "outputs": [
    {
     "data": {
      "text/html": [
       "<div style=\"max-height:1000px;max-width:1500px;overflow:auto;\">\n",
       "<table border=\"1\" class=\"dataframe\">\n",
       "  <thead>\n",
       "    <tr style=\"text-align: right;\">\n",
       "      <th></th>\n",
       "      <th>user</th>\n",
       "    </tr>\n",
       "  </thead>\n",
       "  <tbody>\n",
       "    <tr>\n",
       "      <th>0</th>\n",
       "      <td> {u'follow_request_sent': False, u'profile_use_...</td>\n",
       "    </tr>\n",
       "    <tr>\n",
       "      <th>1</th>\n",
       "      <td> {u'follow_request_sent': False, u'profile_use_...</td>\n",
       "    </tr>\n",
       "    <tr>\n",
       "      <th>2</th>\n",
       "      <td> {u'follow_request_sent': False, u'profile_use_...</td>\n",
       "    </tr>\n",
       "    <tr>\n",
       "      <th>3</th>\n",
       "      <td> {u'follow_request_sent': False, u'profile_use_...</td>\n",
       "    </tr>\n",
       "    <tr>\n",
       "      <th>4</th>\n",
       "      <td> {u'follow_request_sent': False, u'profile_use_...</td>\n",
       "    </tr>\n",
       "  </tbody>\n",
       "</table>\n",
       "</div>"
      ],
      "text/plain": [
       "                                                user\n",
       "0  {u'follow_request_sent': False, u'profile_use_...\n",
       "1  {u'follow_request_sent': False, u'profile_use_...\n",
       "2  {u'follow_request_sent': False, u'profile_use_...\n",
       "3  {u'follow_request_sent': False, u'profile_use_...\n",
       "4  {u'follow_request_sent': False, u'profile_use_..."
      ]
     },
     "execution_count": 79,
     "metadata": {},
     "output_type": "execute_result"
    }
   ],
   "source": [
    "us_tweets = pd.DataFrame(us_tweet_collection)[['user']]\n",
    "us_tweets.head()"
   ]
  },
  {
   "cell_type": "code",
   "execution_count": null,
   "metadata": {
    "collapsed": false
   },
   "outputs": [],
   "source": []
  }
 ],
 "metadata": {
  "kernelspec": {
   "display_name": "Python 2",
   "language": "python",
   "name": "python2"
  },
  "language_info": {
   "codemirror_mode": {
    "name": "ipython",
    "version": 2
   },
   "file_extension": ".py",
   "mimetype": "text/x-python",
   "name": "python",
   "nbconvert_exporter": "python",
   "pygments_lexer": "ipython2",
   "version": "2.7.9"
  }
 },
 "nbformat": 4,
 "nbformat_minor": 0
}
