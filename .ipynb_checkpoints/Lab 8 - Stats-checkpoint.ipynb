{
 "cells": [
  {
   "cell_type": "markdown",
   "metadata": {},
   "source": [
    "## Lab 8 - Stats\n",
    "\n",
    "On Groundhog Day, February 2, a famous groundhog in Punxsutawney, PA is used to predict whether a winter will be long or not based on whether or not he sees his shadow. [Jonathan Taylor](http://statweb.stanford.edu/~jtaylo/) collected data on whether he saw his shadow or not from [here](http://www.stormfax.com/ghogday.htm). He stored some of this data in this [table](http://stats191.stanford.edu/data/groundhog.table).\n",
    "\n",
    "Although Phil is on the East Coast,\n",
    "Taylor wondered if the information says anything about whether or not we will experience\n",
    "a rainy winter out here in California. For this, he found rainfall data, and saved it in a \n",
    "[table](http://stats191.stanford.edu/data/rainfall.csv). To see how this was extracted\n",
    "see this [notebook](http://nbviewer.ipython.org/url/www.stanford.edu/class/stats191/notebooks/Rainfall%20data.ipynb).\n",
    "\n",
    "1. Make a boxplot of the average rainfall in Northen California comparing the years Phil sees his shadow versus the years he does not.\n",
    "\n",
    "2. Construct a 90% confidence interval for the difference between the mean rainfall in years Phil sees his shadow and years he does not.\n",
    "\n",
    "3. Interpret the interval in part 2.\n",
    "\n",
    "4. At level, $\\alpha = 0.05$ would you reject the null hypothesis that the average rainfall in Northern California during the month of February was the same in years Phil sees his shadow versus years he does not?\n",
    "\n",
    "5. What assumptions are you making in forming your confidence interval and in your hypothesis test?"
   ]
  },
  {
   "cell_type": "code",
   "execution_count": 1,
   "metadata": {
    "collapsed": false
   },
   "outputs": [],
   "source": [
    "%matplotlib inline\n",
    "import os\n",
    "import matplotlib.pyplot as plt\n",
    "import numpy as np\n",
    "import pandas as pd\n",
    "import statsmodels.api as sm\n",
    "import twitter\n",
    "import yaml\n",
    "from pymongo import MongoClient"
   ]
  },
  {
   "cell_type": "markdown",
   "metadata": {},
   "source": [
    "### Part 1"
   ]
  },
  {
   "cell_type": "code",
   "execution_count": 2,
   "metadata": {
    "collapsed": false
   },
   "outputs": [],
   "source": [
    "rainfall = pd.read_csv('http://stats191.stanford.edu/data/rainfall.csv')\n",
    "groundhog = pd.read_csv('http://stats191.stanford.edu/data/groundhog.table')"
   ]
  },
  {
   "cell_type": "code",
   "execution_count": 3,
   "metadata": {
    "collapsed": false
   },
   "outputs": [
    {
     "data": {
      "text/html": [
       "<div style=\"max-height:1000px;max-width:1500px;overflow:auto;\">\n",
       "<table border=\"1\" class=\"dataframe\">\n",
       "  <thead>\n",
       "    <tr style=\"text-align: right;\">\n",
       "      <th></th>\n",
       "      <th>Total</th>\n",
       "      <th>shadow</th>\n",
       "    </tr>\n",
       "  </thead>\n",
       "  <tbody>\n",
       "    <tr>\n",
       "      <th>0 </th>\n",
       "      <td> 35.97</td>\n",
       "      <td> N</td>\n",
       "    </tr>\n",
       "    <tr>\n",
       "      <th>1 </th>\n",
       "      <td> 32.17</td>\n",
       "      <td> Y</td>\n",
       "    </tr>\n",
       "    <tr>\n",
       "      <th>2 </th>\n",
       "      <td> 36.01</td>\n",
       "      <td> Y</td>\n",
       "    </tr>\n",
       "    <tr>\n",
       "      <th>3 </th>\n",
       "      <td> 65.32</td>\n",
       "      <td> Y</td>\n",
       "    </tr>\n",
       "    <tr>\n",
       "      <th>4 </th>\n",
       "      <td> 31.83</td>\n",
       "      <td> Y</td>\n",
       "    </tr>\n",
       "    <tr>\n",
       "      <th>5 </th>\n",
       "      <td> 85.39</td>\n",
       "      <td> N</td>\n",
       "    </tr>\n",
       "    <tr>\n",
       "      <th>6 </th>\n",
       "      <td> 61.31</td>\n",
       "      <td> Y</td>\n",
       "    </tr>\n",
       "    <tr>\n",
       "      <th>7 </th>\n",
       "      <td> 68.76</td>\n",
       "      <td> N</td>\n",
       "    </tr>\n",
       "    <tr>\n",
       "      <th>8 </th>\n",
       "      <td> 82.40</td>\n",
       "      <td> Y</td>\n",
       "    </tr>\n",
       "    <tr>\n",
       "      <th>9 </th>\n",
       "      <td> 54.75</td>\n",
       "      <td> N</td>\n",
       "    </tr>\n",
       "    <tr>\n",
       "      <th>10</th>\n",
       "      <td> 56.70</td>\n",
       "      <td> Y</td>\n",
       "    </tr>\n",
       "    <tr>\n",
       "      <th>11</th>\n",
       "      <td> 32.97</td>\n",
       "      <td> Y</td>\n",
       "    </tr>\n",
       "    <tr>\n",
       "      <th>12</th>\n",
       "      <td> 46.34</td>\n",
       "      <td> Y</td>\n",
       "    </tr>\n",
       "    <tr>\n",
       "      <th>13</th>\n",
       "      <td> 59.77</td>\n",
       "      <td> Y</td>\n",
       "    </tr>\n",
       "    <tr>\n",
       "      <th>14</th>\n",
       "      <td> 47.29</td>\n",
       "      <td> Y</td>\n",
       "    </tr>\n",
       "    <tr>\n",
       "      <th>15</th>\n",
       "      <td> 57.51</td>\n",
       "      <td> Y</td>\n",
       "    </tr>\n",
       "    <tr>\n",
       "      <th>16</th>\n",
       "      <td> 80.15</td>\n",
       "      <td> Y</td>\n",
       "    </tr>\n",
       "    <tr>\n",
       "      <th>17</th>\n",
       "      <td> 37.21</td>\n",
       "      <td> N</td>\n",
       "    </tr>\n",
       "    <tr>\n",
       "      <th>18</th>\n",
       "      <td> 34.99</td>\n",
       "      <td> Y</td>\n",
       "    </tr>\n",
       "    <tr>\n",
       "      <th>19</th>\n",
       "      <td> 46.85</td>\n",
       "      <td> Y</td>\n",
       "    </tr>\n",
       "    <tr>\n",
       "      <th>20</th>\n",
       "      <td> 53.59</td>\n",
       "      <td> Y</td>\n",
       "    </tr>\n",
       "  </tbody>\n",
       "</table>\n",
       "</div>"
      ],
      "text/plain": [
       "    Total shadow\n",
       "0   35.97      N\n",
       "1   32.17      Y\n",
       "2   36.01      Y\n",
       "3   65.32      Y\n",
       "4   31.83      Y\n",
       "5   85.39      N\n",
       "6   61.31      Y\n",
       "7   68.76      N\n",
       "8   82.40      Y\n",
       "9   54.75      N\n",
       "10  56.70      Y\n",
       "11  32.97      Y\n",
       "12  46.34      Y\n",
       "13  59.77      Y\n",
       "14  47.29      Y\n",
       "15  57.51      Y\n",
       "16  80.15      Y\n",
       "17  37.21      N\n",
       "18  34.99      Y\n",
       "19  46.85      Y\n",
       "20  53.59      Y"
      ]
     },
     "execution_count": 3,
     "metadata": {},
     "output_type": "execute_result"
    }
   ],
   "source": [
    "df = rainfall.merge(groundhog, left_on='WY', right_on='year')[['Total', 'shadow']]\n",
    "df"
   ]
  },
  {
   "cell_type": "code",
   "execution_count": 4,
   "metadata": {
    "collapsed": false
   },
   "outputs": [
    {
     "data": {
      "text/plain": [
       "<matplotlib.axes._subplots.AxesSubplot at 0x10bea5190>"
      ]
     },
     "execution_count": 4,
     "metadata": {},
     "output_type": "execute_result"
    },
    {
     "data": {
      "image/png": "[encoded data removed]",
      "text/plain": [
       "<matplotlib.figure.Figure at 0x10be7af10>"
      ]
     },
     "metadata": {},
     "output_type": "display_data"
    }
   ],
   "source": [
    "df.boxplot(column='Total', by='shadow')"
   ]
  },
  {
   "cell_type": "markdown",
   "metadata": {},
   "source": [
    "### Part 2"
   ]
  },
  {
   "cell_type": "code",
   "execution_count": 5,
   "metadata": {
    "collapsed": false
   },
   "outputs": [
    {
     "name": "stdout",
     "output_type": "stream",
     "text": [
      "                            OLS Regression Results                            \n",
      "==============================================================================\n",
      "Dep. Variable:                  Total   R-squared:                       0.016\n",
      "Model:                            OLS   Adj. R-squared:                 -0.036\n",
      "Method:                 Least Squares   F-statistic:                    0.2996\n",
      "Date:                Tue, 10 Feb 2015   Prob (F-statistic):              0.591\n",
      "Time:                        21:12:57   Log-Likelihood:                -88.568\n",
      "No. Observations:                  21   AIC:                             181.1\n",
      "Df Residuals:                      19   BIC:                             183.2\n",
      "Df Model:                           1                                         \n",
      "=========================================================================================\n",
      "                            coef    std err          t      P>|t|      [90.0% Conf. Int.]\n",
      "-----------------------------------------------------------------------------------------\n",
      "Intercept                56.4160      7.721      7.307      0.000        43.066    69.766\n",
      "shadow == 'Y'[T.True]    -4.8410      8.845     -0.547      0.591       -20.135    10.453\n",
      "==============================================================================\n",
      "Omnibus:                        1.662   Durbin-Watson:                   1.830\n",
      "Prob(Omnibus):                  0.436   Jarque-Bera (JB):                1.276\n",
      "Skew:                           0.403   Prob(JB):                        0.528\n",
      "Kurtosis:                       2.102   Cond. No.                         3.88\n",
      "==============================================================================\n"
     ]
    }
   ],
   "source": [
    "mod = sm.OLS.from_formula(\"Total ~ shadow == 'Y'\", df) # model total amount of rain fall by whether or not shadow = Y\n",
    "res = mod.fit()\n",
    "print res.summary(alpha = .1)"
   ]
  },
  {
   "cell_type": "markdown",
   "metadata": {},
   "source": [
    "+ The confidence interval for the difference between the shadow == 'Y' and the shadow == 'N' means is [-20.135, 10.453].\n",
    "+ If I repeated this sample of shadow and rainfall in Northern California (assuming they are IID each year) and I form this confidence interval as t.test does. Then, 90% of the intervals will cover the true underlying difference in the rainfall between years the groundhog sees his shadow or not.\n",
    "+ P-value is 0.591, I fail to reject the null hypothesis (that the average rainfall in Northern California during the month of February was the same in years Phil sees his shadow versus years he does not) at the 5% level.\n",
    "+ This assumes that the rainfall measurements are independent and normally distributed. "
   ]
  },
  {
   "cell_type": "markdown",
   "metadata": {
    "collapsed": false
   },
   "source": [
    "### Part 3\n",
    "Use enron.db from Lab 2. It can be found in the data folder."
   ]
  },
  {
   "cell_type": "markdown",
   "metadata": {},
   "source": [
    "#### Create a boxplot of the message recipient count (MAX(rno)), splitting the data based on the seniority of the sender."
   ]
  },
  {
   "cell_type": "code",
   "execution_count": 7,
   "metadata": {
    "collapsed": false
   },
   "outputs": [],
   "source": [
    "%load_ext sql"
   ]
  },
  {
   "cell_type": "code",
   "execution_count": 8,
   "metadata": {
    "collapsed": false
   },
   "outputs": [
    {
     "name": "stdout",
     "output_type": "stream",
     "text": [
      "Employee          EmployeeWithVars  MessageBase       RecipientBase   \n",
      "EmployeeBase      Message           Recipient       \n"
     ]
    }
   ],
   "source": [
    "%%bash\n",
    "sqlite3 data/enron.db .tables"
   ]
  },
  {
   "cell_type": "code",
   "execution_count": 9,
   "metadata": {
    "collapsed": false
   },
   "outputs": [],
   "source": [
    "import sqlite3\n",
    "conn = sqlite3.connect('data/enron.db')"
   ]
  },
  {
   "cell_type": "code",
   "execution_count": 10,
   "metadata": {
    "collapsed": false
   },
   "outputs": [],
   "source": [
    "data = pd.read_sql(\"\"\"SELECT seniority, MAX(rno) as max_rno\n",
    "FROM EmployeeBase \n",
    "JOIN MessageBase ON eid = from_eid JOIN RecipientBase USING(mid) GROUP BY name\"\"\", conn)"
   ]
  },
  {
   "cell_type": "code",
   "execution_count": 11,
   "metadata": {
    "collapsed": false
   },
   "outputs": [
    {
     "data": {
      "text/html": [
       "<div style=\"max-height:1000px;max-width:1500px;overflow:auto;\">\n",
       "<table border=\"1\" class=\"dataframe\">\n",
       "  <thead>\n",
       "    <tr style=\"text-align: right;\">\n",
       "      <th></th>\n",
       "      <th>seniority</th>\n",
       "      <th>max_rno</th>\n",
       "    </tr>\n",
       "  </thead>\n",
       "  <tbody>\n",
       "    <tr>\n",
       "      <th>0</th>\n",
       "      <td> Senior</td>\n",
       "      <td>  7</td>\n",
       "    </tr>\n",
       "    <tr>\n",
       "      <th>1</th>\n",
       "      <td> Senior</td>\n",
       "      <td>  2</td>\n",
       "    </tr>\n",
       "    <tr>\n",
       "      <th>2</th>\n",
       "      <td> Senior</td>\n",
       "      <td> 12</td>\n",
       "    </tr>\n",
       "    <tr>\n",
       "      <th>3</th>\n",
       "      <td> Senior</td>\n",
       "      <td>  5</td>\n",
       "    </tr>\n",
       "    <tr>\n",
       "      <th>4</th>\n",
       "      <td> Junior</td>\n",
       "      <td>  1</td>\n",
       "    </tr>\n",
       "  </tbody>\n",
       "</table>\n",
       "</div>"
      ],
      "text/plain": [
       "  seniority  max_rno\n",
       "0    Senior        7\n",
       "1    Senior        2\n",
       "2    Senior       12\n",
       "3    Senior        5\n",
       "4    Junior        1"
      ]
     },
     "execution_count": 11,
     "metadata": {},
     "output_type": "execute_result"
    }
   ],
   "source": [
    "df = pd.DataFrame(data)\n",
    "df.head()"
   ]
  },
  {
   "cell_type": "code",
   "execution_count": 12,
   "metadata": {
    "collapsed": false
   },
   "outputs": [
    {
     "data": {
      "text/plain": [
       "<matplotlib.axes._subplots.AxesSubplot at 0x10edce8d0>"
      ]
     },
     "execution_count": 12,
     "metadata": {},
     "output_type": "execute_result"
    },
    {
     "data": {
      "image/png": "[encoded data removed]",
      "text/plain": [
       "<matplotlib.figure.Figure at 0x10edce790>"
      ]
     },
     "metadata": {},
     "output_type": "display_data"
    }
   ],
   "source": [
    "df.boxplot(column='max_rno', by='seniority')"
   ]
  },
  {
   "cell_type": "markdown",
   "metadata": {},
   "source": [
    "#### Compute the sample mean and standard deviation in the three groups.\n"
   ]
  },
  {
   "cell_type": "code",
   "execution_count": 13,
   "metadata": {
    "collapsed": false
   },
   "outputs": [
    {
     "data": {
      "text/plain": [
       "4      1\n",
       "5      2\n",
       "6      6\n",
       "7     11\n",
       "9      6\n",
       "11     8\n",
       "12     4\n",
       "13     1\n",
       "14     4\n",
       "15     1\n",
       "16     1\n",
       "17     4\n",
       "18     1\n",
       "21     5\n",
       "22     3\n",
       "...\n",
       "131     4\n",
       "133    11\n",
       "136     1\n",
       "138     6\n",
       "139    16\n",
       "140    21\n",
       "141     2\n",
       "142    10\n",
       "143     5\n",
       "144     4\n",
       "146     1\n",
       "147    10\n",
       "148     5\n",
       "149    10\n",
       "151     2\n",
       "Name: max_rno, Length: 78, dtype: int64"
      ]
     },
     "execution_count": 13,
     "metadata": {},
     "output_type": "execute_result"
    }
   ],
   "source": [
    "junior = data.max_rno[data.seniority=='Junior']\n",
    "senior = data.max_rno[data.seniority=='Senior']\n",
    "junior.mean(), senior.mean()\n",
    "junior"
   ]
  },
  {
   "cell_type": "markdown",
   "metadata": {},
   "source": [
    "#### Create a histogram of the recipient count within each group."
   ]
  },
  {
   "cell_type": "code",
   "execution_count": 14,
   "metadata": {
    "collapsed": false
   },
   "outputs": [
    {
     "data": {
      "text/plain": [
       "<matplotlib.text.Text at 0x10e7e13d0>"
      ]
     },
     "execution_count": 14,
     "metadata": {},
     "output_type": "execute_result"
    },
    {
     "data": {
      "image/png": "[encoded data removed]",
      "text/plain": [
       "<matplotlib.figure.Figure at 0x10f1ac550>"
      ]
     },
     "metadata": {},
     "output_type": "display_data"
    }
   ],
   "source": [
    "junior.hist(figsize=(12,6))\n",
    "plt.title('Junior group')\n",
    "plt.xlabel('Max(rno)')"
   ]
  },
  {
   "cell_type": "code",
   "execution_count": 15,
   "metadata": {
    "collapsed": false
   },
   "outputs": [
    {
     "data": {
      "text/plain": [
       "<matplotlib.text.Text at 0x10f1acd50>"
      ]
     },
     "execution_count": 15,
     "metadata": {},
     "output_type": "execute_result"
    },
    {
     "data": {
      "image/png": "[encoded data removed]",
      "text/plain": [
       "<matplotlib.figure.Figure at 0x10f2705d0>"
      ]
     },
     "metadata": {},
     "output_type": "display_data"
    }
   ],
   "source": [
    "senior.hist(figsize=(12,6))\n",
    "plt.title('Senior group')\n",
    "plt.xlabel('Max(rno)')"
   ]
  },
  {
   "cell_type": "markdown",
   "metadata": {},
   "source": [
    "#### Compute a 90% confidence interval for the difference in recipient count between the two groups. \n"
   ]
  },
  {
   "cell_type": "code",
   "execution_count": 21,
   "metadata": {
    "collapsed": false
   },
   "outputs": [
    {
     "name": "stdout",
     "output_type": "stream",
     "text": [
      "                            OLS Regression Results                            \n",
      "==============================================================================\n",
      "Dep. Variable:                max_rno   R-squared:                       0.049\n",
      "Model:                            OLS   Adj. R-squared:                  0.043\n",
      "Method:                 Least Squares   F-statistic:                     7.805\n",
      "Date:                Tue, 10 Feb 2015   Prob (F-statistic):            0.00589\n",
      "Time:                        21:18:48   Log-Likelihood:                -526.84\n",
      "No. Observations:                 152   AIC:                             1058.\n",
      "Df Residuals:                     150   BIC:                             1064.\n",
      "Df Model:                           1                                         \n",
      "=================================================================================================\n",
      "                                    coef    std err          t      P>|t|      [90.0% Conf. Int.]\n",
      "-------------------------------------------------------------------------------------------------\n",
      "Intercept                         8.9324      0.906      9.855      0.000         7.432    10.433\n",
      "seniority == 'Junior'[T.True]    -3.5350      1.265     -2.794      0.006        -5.629    -1.441\n",
      "==============================================================================\n",
      "Omnibus:                      152.587   Durbin-Watson:                   2.256\n",
      "Prob(Omnibus):                  0.000   Jarque-Bera (JB):             2499.292\n",
      "Skew:                           3.771   Prob(JB):                         0.00\n",
      "Kurtosis:                      21.378   Cond. No.                         2.65\n",
      "==============================================================================\n"
     ]
    }
   ],
   "source": [
    "junior_mod = sm.OLS.from_formula(\"max_rno ~ seniority == 'Junior'\",df)\n",
    "res = junior_mod.fit()\n",
    "print res.summary(alpha=.1)\n"
   ]
  },
  {
   "cell_type": "code",
   "execution_count": 19,
   "metadata": {
    "collapsed": false
   },
   "outputs": [
    {
     "name": "stdout",
     "output_type": "stream",
     "text": [
      "                            OLS Regression Results                            \n",
      "==============================================================================\n",
      "Dep. Variable:                max_rno   R-squared:                       0.049\n",
      "Model:                            OLS   Adj. R-squared:                  0.043\n",
      "Method:                 Least Squares   F-statistic:                     7.805\n",
      "Date:                Tue, 10 Feb 2015   Prob (F-statistic):            0.00589\n",
      "Time:                        21:14:17   Log-Likelihood:                -526.84\n",
      "No. Observations:                 152   AIC:                             1058.\n",
      "Df Residuals:                     150   BIC:                             1064.\n",
      "Df Model:                           1                                         \n",
      "=================================================================================================\n",
      "                                    coef    std err          t      P>|t|      [90.0% Conf. Int.]\n",
      "-------------------------------------------------------------------------------------------------\n",
      "Intercept                         5.3974      0.883      6.114      0.000         3.936     6.859\n",
      "seniority == 'Senior'[T.True]     3.5350      1.265      2.794      0.006         1.441     5.629\n",
      "==============================================================================\n",
      "Omnibus:                      152.587   Durbin-Watson:                   2.256\n",
      "Prob(Omnibus):                  0.000   Jarque-Bera (JB):             2499.292\n",
      "Skew:                           3.771   Prob(JB):                         0.00\n",
      "Kurtosis:                      21.378   Cond. No.                         2.59\n",
      "==============================================================================\n"
     ]
    }
   ],
   "source": [
    "senior_mod = sm.OLS.from_formula(\"max_rno ~ seniority == 'Senior'\",df)\n",
    "res = senior_mod.fit()\n",
    "print res.summary(alpha=.1)"
   ]
  },
  {
   "cell_type": "markdown",
   "metadata": {
    "collapsed": false
   },
   "source": [
    "At level $\\alpha=5\\%$, test the null hypothesis that the average recipient count does not differ between the two groups. What assumptions are It is likely that they differ between the two groups because p val is < .05 so we can reject the null hypothesis"
   ]
  },
  {
   "cell_type": "code",
   "execution_count": null,
   "metadata": {
    "collapsed": true
   },
   "outputs": [],
   "source": []
  }
 ],
 "metadata": {
  "kernelspec": {
   "display_name": "Python 2",
   "language": "python",
   "name": "python2"
  },
  "language_info": {
   "codemirror_mode": {
    "name": "ipython",
    "version": 2
   },
   "file_extension": ".py",
   "mimetype": "text/x-python",
   "name": "python",
   "nbconvert_exporter": "python",
   "pygments_lexer": "ipython2",
   "version": "2.7.9"
  }
 },
 "nbformat": 4,
 "nbformat_minor": 0
}
