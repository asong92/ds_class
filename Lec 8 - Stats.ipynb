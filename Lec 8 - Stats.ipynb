{
 "metadata": {
  "name": "",
  "signature": "sha256:b63e33e7bfc7e108a150e19c4dc29a47985b343953b6c9060b88fccc5f04e347"
 },
 "nbformat": 3,
 "nbformat_minor": 0,
 "worksheets": [
  {
   "cells": [
    {
     "cell_type": "markdown",
     "metadata": {
      "slideshow": {
       "slide_type": "slide"
      }
     },
     "source": [
      "Data Science\n",
      "================================\n",
      "Probability and Statistics\n",
      "--------------------------------\n",
      "Alessandro D. Gagliardi"
     ]
    },
    {
     "cell_type": "markdown",
     "metadata": {},
     "source": [
      "Fill in the Blank\n",
      "----\n",
      "\n",
      "|         | ??? | ??? |\n",
      "|:-------:|:-------:|:-------:|\n",
      "| **???** | regression | classification |\n",
      "| **???** | dimension reduction | clustering|"
     ]
    },
    {
     "cell_type": "markdown",
     "metadata": {},
     "source": [
      "Projects\n",
      "--------\n",
      "- What class of machine learning method(s) will you use?\n",
      "- Big data vs. small data"
     ]
    },
    {
     "cell_type": "markdown",
     "metadata": {
      "slideshow": {
       "slide_type": "slide"
      }
     },
     "source": [
      "---\n",
      "\n",
      "> There are three kinds of lies: lies, damned lies, and statistics.\n",
      "\n",
      "\u2013 Benjamin Disraeli (?)"
     ]
    },
    {
     "cell_type": "markdown",
     "metadata": {
      "slideshow": {
       "slide_type": "slide"
      }
     },
     "source": [
      "Agenda\n",
      "------\n",
      "\n",
      "* [What is a regression model?](#What-is-a-regression-model?)\n",
      "* [History of Probability](#History-of-Probability)\n",
      "* [Descriptive statistics -- numerical](#Numerical-descriptive-statistics)\n",
      "* [Descriptive statistics -- graphical](#Graphical-statistical-summaries)\n",
      "* [p-values and Hypothesis Testing](#p-values-and-Hypothesis-Testing)\n",
      "* [Inference about a population mean](#Inference-about-a-population-mean)\n",
      "* [Difference between two population means](#Blood-pressure-example)"
     ]
    },
    {
     "cell_type": "code",
     "collapsed": false,
     "input": [
      "%matplotlib inline\n",
      "from __future__ import division\n",
      "\n",
      "import warnings\n",
      "\n",
      "import matplotlib\n",
      "\n",
      "import numpy as np\n",
      "import pandas as pd\n",
      "#import pandas.rpy.common as com\n",
      "import statsmodels.api as sm\n",
      "\n",
      "from matplotlib.pylab import poly_between\n",
      "from scipy import stats\n",
      "from scipy.stats import binom\n",
      "from scipy.stats import t as tdist\n",
      "from seaborn import plt\n",
      "from sympy import Eq, S, init_printing\n",
      "from sympy.stats import Binomial, Die, P, density, sample, sample_iter\n",
      "\n",
      "warnings.filterwarnings('ignore')\n",
      "\n",
      "init_printing()"
     ],
     "language": "python",
     "metadata": {
      "slideshow": {
       "slide_type": "skip"
      }
     },
     "outputs": [],
     "prompt_number": 1
    },
    {
     "cell_type": "heading",
     "level": 1,
     "metadata": {},
     "source": [
      "What is a regression model?"
     ]
    },
    {
     "cell_type": "markdown",
     "metadata": {
      "slideshow": {
       "slide_type": "fragment"
      }
     },
     "source": [
      "A **functional relationship** between **input** & **response variables**"
     ]
    },
    {
     "cell_type": "markdown",
     "metadata": {
      "slideshow": {
       "slide_type": "fragment"
      }
     },
     "source": [
      "A **simple linear regression** model captures a linear relationship between an input x and response variable y"
     ]
    },
    {
     "cell_type": "markdown",
     "metadata": {
      "slideshow": {
       "slide_type": "fragment"
      }
     },
     "source": [
      "$$ y = \\alpha + \\beta x + \\epsilon $$"
     ]
    },
    {
     "cell_type": "markdown",
     "metadata": {
      "slideshow": {
       "slide_type": "fragment"
      }
     },
     "source": [
      "> The purpose of models is not to fit the data but to sharpen the questions. \n",
      "\n",
      "Samuel Karlin (1924-2007), mathematician"
     ]
    },
    {
     "cell_type": "markdown",
     "metadata": {
      "slideshow": {
       "slide_type": "subslide"
      }
     },
     "source": [
      "What do the terms in this model mean?\n",
      "-------------------------------------\n",
      "$y = \\alpha + \\beta x + \\epsilon$"
     ]
    },
    {
     "cell_type": "markdown",
     "metadata": {
      "slideshow": {
       "slide_type": "fragment"
      }
     },
     "source": [
      "$y =$ **response variable** (the one we want to predict)"
     ]
    },
    {
     "cell_type": "markdown",
     "metadata": {
      "slideshow": {
       "slide_type": "fragment"
      }
     },
     "source": [
      "$x =$ **input variable** (the one we use to train the model)"
     ]
    },
    {
     "cell_type": "markdown",
     "metadata": {
      "slideshow": {
       "slide_type": "fragment"
      }
     },
     "source": [
      "$\\alpha =$ **intercept** (where the line crosses the y-axis)"
     ]
    },
    {
     "cell_type": "markdown",
     "metadata": {
      "slideshow": {
       "slide_type": "fragment"
      }
     },
     "source": [
      "$\\beta =$ **regression coefficient** (the model \u201cparameter\u201d)"
     ]
    },
    {
     "cell_type": "markdown",
     "metadata": {
      "slideshow": {
       "slide_type": "fragment"
      }
     },
     "source": [
      "$\\epsilon =$ **residual** (the prediction error)"
     ]
    },
    {
     "cell_type": "markdown",
     "metadata": {
      "slideshow": {
       "slide_type": "notes"
      }
     },
     "source": [
      "$y$ Dependent var, target var, output var  \n",
      "$x$ Indep var, explanatory var, covariate  \n",
      "$\\epsilon$ Error term, disturbance  \n",
      "White noise (usually assumed to follow Gaussian distribution)"
     ]
    },
    {
     "cell_type": "markdown",
     "metadata": {
      "slideshow": {
       "slide_type": "skip"
      }
     },
     "source": [
      "## What is a regression model? \n",
      "\n",
      "\n",
      "A regression model is a model of the relationships between some \n",
      "*covariates (predictors)* and an *outcome*.\n",
      "\n",
      "\n",
      "Specifically, regression is a model of the *average* outcome *given or having fixed* the covariates. \n",
      "    \n",
      "  "
     ]
    },
    {
     "cell_type": "markdown",
     "metadata": {
      "slideshow": {
       "slide_type": "slide"
      }
     },
     "source": [
      "# Heights of mothers and daughters\n",
      "\n",
      "\n",
      "      \n",
      "* We will consider the [heights](http://www.stat.cmu.edu/~roeder/stat707/=data/=data/data/Rlibraries/alr3/html/heights.html) of mothers and daughters collected \n",
      "by Karl Pearson in the late 19th century.\n",
      "\n",
      "* One of our goals is to understand height of the daughter, `D`, knowing the height of the\n",
      "mother, `M`.\n",
      "\n",
      "\n",
      "* A mathematical  model might look like\n",
      "  $$\n",
      "  D = f(M) + \\varepsilon$$\n",
      "  where $f$ gives the average height of the daughter\n",
      "  of a mother of height `M` and\n",
      "  $\\varepsilon$ is *error*: not *every* daughter has the same height.\n",
      "\n",
      "* A statistical question: is there *any*\n",
      "relationship between covariates and outcomes -- is $f$ just a constant?\n",
      "\n"
     ]
    },
    {
     "cell_type": "markdown",
     "metadata": {
      "slideshow": {
       "slide_type": "skip"
      }
     },
     "source": [
      "Let's create a plot of the heights of the mother/daughter pairs."
     ]
    },
    {
     "cell_type": "code",
     "collapsed": false,
     "input": [
      "heights = pd.read_csv('data/heights.csv', index_col=0)\n",
      "heights.describe().T"
     ],
     "language": "python",
     "metadata": {},
     "outputs": [
      {
       "html": [
        "<div style=\"max-height:1000px;max-width:1500px;overflow:auto;\">\n",
        "<table border=\"1\" class=\"dataframe\">\n",
        "  <thead>\n",
        "    <tr style=\"text-align: right;\">\n",
        "      <th></th>\n",
        "      <th>count</th>\n",
        "      <th>mean</th>\n",
        "      <th>std</th>\n",
        "      <th>min</th>\n",
        "      <th>25%</th>\n",
        "      <th>50%</th>\n",
        "      <th>75%</th>\n",
        "      <th>max</th>\n",
        "    </tr>\n",
        "  </thead>\n",
        "  <tbody>\n",
        "    <tr>\n",
        "      <th>Mheight</th>\n",
        "      <td> 1375</td>\n",
        "      <td> 62.452800</td>\n",
        "      <td> 2.355103</td>\n",
        "      <td> 55.4</td>\n",
        "      <td> 60.8</td>\n",
        "      <td> 62.4</td>\n",
        "      <td> 63.9</td>\n",
        "      <td> 70.8</td>\n",
        "    </tr>\n",
        "    <tr>\n",
        "      <th>Dheight</th>\n",
        "      <td> 1375</td>\n",
        "      <td> 63.751055</td>\n",
        "      <td> 2.600053</td>\n",
        "      <td> 55.1</td>\n",
        "      <td> 62.0</td>\n",
        "      <td> 63.6</td>\n",
        "      <td> 65.6</td>\n",
        "      <td> 73.1</td>\n",
        "    </tr>\n",
        "  </tbody>\n",
        "</table>\n",
        "</div>"
       ],
       "metadata": {},
       "output_type": "pyout",
       "prompt_number": 2,
       "text": [
        "         count       mean       std   min   25%   50%   75%   max\n",
        "Mheight   1375  62.452800  2.355103  55.4  60.8  62.4  63.9  70.8\n",
        "Dheight   1375  63.751055  2.600053  55.1  62.0  63.6  65.6  73.1"
       ]
      }
     ],
     "prompt_number": 2
    },
    {
     "cell_type": "code",
     "collapsed": false,
     "input": [
      "heights_fig = plt.figure(figsize=(10,6))\n",
      "axes = heights_fig.gca()\n",
      "axes.scatter(heights.Mheight, heights.Dheight, c='red')\n",
      "axes.set_xlabel(\"Mother's height (inches)\", size=20)\n",
      "axes.set_ylabel(\"Daughter's height (inches)\", size=20)"
     ],
     "language": "python",
     "metadata": {
      "slideshow": {
       "slide_type": "subslide"
      }
     },
     "outputs": [
      {
       "metadata": {},
       "output_type": "pyout",
       "prompt_number": 3,
       "text": [
        "<matplotlib.text.Text at 0x10caec9d0>"
       ]
      },
      {
       "metadata": {},
       "output_type": "display_data",
       "png": "[encoded data removed]",
       "text": [
        "<matplotlib.figure.Figure at 0x10cabd4d0>"
       ]
      }
     ],
     "prompt_number": 3
    },
    {
     "cell_type": "markdown",
     "metadata": {
      "slideshow": {
       "slide_type": "slide"
      }
     },
     "source": [
      "In the first part of this session we'll talk about fitting a line to this data. Let's do that and remake the plot, including\n",
      "this \"best fitting line\"."
     ]
    },
    {
     "cell_type": "code",
     "collapsed": false,
     "input": [
      "res = sm.OLS.from_formula(\"Dheight ~ Mheight\", heights).fit()"
     ],
     "language": "python",
     "metadata": {},
     "outputs": [],
     "prompt_number": 4
    },
    {
     "cell_type": "code",
     "collapsed": false,
     "input": [
      "axes.plot([heights.Mheight.min(), heights.Mheight.max()], \n",
      "          [res.params.Intercept + res.params.Mheight * heights.Mheight.min(), \n",
      "           res.params.Intercept + res.params.Mheight * heights.Mheight.max()],\n",
      "          linewidth=3)\n",
      "heights_fig"
     ],
     "language": "python",
     "metadata": {
      "slideshow": {
       "slide_type": "fragment"
      }
     },
     "outputs": [
      {
       "metadata": {},
       "output_type": "pyout",
       "png": "[encoded data removed]",
       "prompt_number": 5,
       "text": [
        "<matplotlib.figure.Figure at 0x10cabd4d0>"
       ]
      }
     ],
     "prompt_number": 5
    },
    {
     "cell_type": "markdown",
     "metadata": {
      "slideshow": {
       "slide_type": "slide"
      }
     },
     "source": [
      "Linear regression model\n",
      "========================================================\n",
      "\n",
      "* How do find this line? With a model.\n",
      "\n",
      "* We might model the data as\n",
      "$$\n",
      "D = \\beta_0+ \\beta_1 M + \\varepsilon.\n",
      "$$\n",
      "\n",
      "* This model is *linear* in $\\beta_1$, the coefficient of  `M` (the mother's height), it is a \n",
      "*simple linear regression model*."
     ]
    },
    {
     "cell_type": "code",
     "collapsed": false,
     "input": [
      "res.params"
     ],
     "language": "python",
     "metadata": {},
     "outputs": [
      {
       "metadata": {},
       "output_type": "pyout",
       "prompt_number": 6,
       "text": [
        "Intercept    29.917437\n",
        "Mheight       0.541747\n",
        "dtype: float64"
       ]
      }
     ],
     "prompt_number": 6
    },
    {
     "cell_type": "markdown",
     "metadata": {},
     "source": [
      "The following depicts the geometric picture involved in least squares regression.\n",
      "\n",
      "![Axes](assets/axes_simple.svg)\n",
      "\n",
      "It requires some imagination but the picture should be thought as representing vectors in $n$-dimensional space, l where $n$ is the number of points in the scatterplot. In our height data, $n=1375$. The bottom two axes should be thought of as 2-dimensional, while the axis marked \"$\\perp$\" should be thought of as $(n-2)$ dimensional, or, 1373 in this case."
     ]
    },
    {
     "cell_type": "markdown",
     "metadata": {
      "slideshow": {
       "slide_type": "subslide"
      }
     },
     "source": [
      "Polynomial Regression\n",
      "-------------------------------------\n",
      "Consider the following model:\n",
      "$$ D = \\beta_0 + \\beta_1 M + \\beta_2 M^2 + \\beta_3 F + \\varepsilon $$\n",
      "where $F$ is the height of the daughter's father."
     ]
    },
    {
     "cell_type": "markdown",
     "metadata": {
      "slideshow": {
       "slide_type": "fragment"
      }
     },
     "source": [
      "Q: This represents a nonlinear relationship. Is it still a linear model?"
     ]
    },
    {
     "cell_type": "markdown",
     "metadata": {
      "slideshow": {
       "slide_type": "fragment"
      }
     },
     "source": [
      "A: Yes, because it\u2019s linear in the $\\beta$\u2019s!"
     ]
    },
    {
     "cell_type": "markdown",
     "metadata": {
      "slideshow": {
       "slide_type": "subslide"
      }
     },
     "source": [
      "Polynomial Regression\n",
      "-------------------------------------\n",
      "> Although *polynomial regression* fits a nonlinear model to the data, as statistical estimation problem it is linear, in the sense that the regression function $E(y|x)$ is linear in the unknown parameters that are estimated from the data. For this reason, polynomial regression is considered to be a special case of multiple linear regression.\n",
      "\n",
      "(from [Wikipedia](http://en.wikipedia.org/wiki/Polynomial_regression))"
     ]
    },
    {
     "cell_type": "markdown",
     "metadata": {
      "slideshow": {
       "slide_type": "fragment"
      }
     },
     "source": [
      "#### Which model is better? We will need a tool to compare models... more to come later."
     ]
    },
    {
     "cell_type": "markdown",
     "metadata": {
      "slideshow": {
       "slide_type": "slide"
      }
     },
     "source": [
      "# A more complex model\n",
      "\n",
      "* Our example here was rather simple: we only had one independent variable.\n",
      "\n",
      "* Independent variables are sometimes called *features*, *covariates*, or *explanatory* variables.\n",
      "\n",
      "* In practice, we often have many more than one explanatory variable."
     ]
    },
    {
     "cell_type": "markdown",
     "metadata": {
      "slideshow": {
       "slide_type": "slide"
      }
     },
     "source": [
      "# Right-to-work\n",
      "\n",
      "This example considers the effect of [right-to-work legislation](http://en.wikipedia.org/wiki/Right-to-work_law) (which varies by state) on various\n",
      "factors. A [description](http://www.ilr.cornell.edu/~hadi/RABE4/Data4/P005.txt) of the data can be found here.\n",
      "\n",
      "The variables are:\n",
      "\n",
      "* Income: income for a four-person family\n",
      "\n",
      "* COL: cost of living for a four-person family\n",
      "\n",
      "* PD: Population density\n",
      "\n",
      "* URate: rate of unionization in 1978\n",
      "\n",
      "* Pop: Population\n",
      "\n",
      "* Taxes: Property taxes in 1972\n",
      "\n",
      "* RTWL: right-to-work indicator\n",
      "   "
     ]
    },
    {
     "cell_type": "markdown",
     "metadata": {
      "slideshow": {
       "slide_type": "slide"
      }
     },
     "source": [
      "In a study like this, there are many possible questions of interest. Our focus will be on the\n",
      "relationship between `RTWL` and `Income`. However, we should recognize that other variables\n",
      "have an effect on `Income`. Let's look at some of these relationships."
     ]
    },
    {
     "cell_type": "code",
     "collapsed": false,
     "input": [
      "# url = \"http://www.ilr.cornell.edu/~hadi/RABE4/Data4/P005.txt\"\n",
      "rtw = pd.read_table(\"data/P005.txt\")\n",
      "rtw.head()"
     ],
     "language": "python",
     "metadata": {
      "slideshow": {
       "slide_type": "fragment"
      }
     },
     "outputs": [
      {
       "html": [
        "<div style=\"max-height:1000px;max-width:1500px;overflow:auto;\">\n",
        "<table border=\"1\" class=\"dataframe\">\n",
        "  <thead>\n",
        "    <tr style=\"text-align: right;\">\n",
        "      <th></th>\n",
        "      <th>City</th>\n",
        "      <th>COL</th>\n",
        "      <th>PD</th>\n",
        "      <th>URate</th>\n",
        "      <th>Pop</th>\n",
        "      <th>Taxes</th>\n",
        "      <th>Income</th>\n",
        "      <th>RTWL</th>\n",
        "    </tr>\n",
        "  </thead>\n",
        "  <tbody>\n",
        "    <tr>\n",
        "      <th>0</th>\n",
        "      <td>     Atlanta</td>\n",
        "      <td> 169</td>\n",
        "      <td> 414</td>\n",
        "      <td> 13.6</td>\n",
        "      <td> 1790128</td>\n",
        "      <td> 5128</td>\n",
        "      <td> 2961</td>\n",
        "      <td> 1</td>\n",
        "    </tr>\n",
        "    <tr>\n",
        "      <th>1</th>\n",
        "      <td>      Austin</td>\n",
        "      <td> 143</td>\n",
        "      <td> 239</td>\n",
        "      <td> 11.0</td>\n",
        "      <td>  396891</td>\n",
        "      <td> 4303</td>\n",
        "      <td> 1711</td>\n",
        "      <td> 1</td>\n",
        "    </tr>\n",
        "    <tr>\n",
        "      <th>2</th>\n",
        "      <td> Bakersfield</td>\n",
        "      <td> 339</td>\n",
        "      <td>  43</td>\n",
        "      <td> 23.7</td>\n",
        "      <td>  349874</td>\n",
        "      <td> 4166</td>\n",
        "      <td> 2122</td>\n",
        "      <td> 0</td>\n",
        "    </tr>\n",
        "    <tr>\n",
        "      <th>3</th>\n",
        "      <td>   Baltimore</td>\n",
        "      <td> 173</td>\n",
        "      <td> 951</td>\n",
        "      <td> 21.0</td>\n",
        "      <td> 2147850</td>\n",
        "      <td> 5001</td>\n",
        "      <td> 4654</td>\n",
        "      <td> 0</td>\n",
        "    </tr>\n",
        "    <tr>\n",
        "      <th>4</th>\n",
        "      <td> Baton Rouge</td>\n",
        "      <td>  99</td>\n",
        "      <td> 255</td>\n",
        "      <td> 16.0</td>\n",
        "      <td>  411725</td>\n",
        "      <td> 3965</td>\n",
        "      <td> 1620</td>\n",
        "      <td> 1</td>\n",
        "    </tr>\n",
        "  </tbody>\n",
        "</table>\n",
        "</div>"
       ],
       "metadata": {},
       "output_type": "pyout",
       "prompt_number": 7,
       "text": [
        "          City  COL   PD  URate      Pop  Taxes  Income  RTWL\n",
        "0      Atlanta  169  414   13.6  1790128   5128    2961     1\n",
        "1       Austin  143  239   11.0   396891   4303    1711     1\n",
        "2  Bakersfield  339   43   23.7   349874   4166    2122     0\n",
        "3    Baltimore  173  951   21.0  2147850   5001    4654     0\n",
        "4  Baton Rouge   99  255   16.0   411725   3965    1620     1"
       ]
      }
     ],
     "prompt_number": 7
    },
    {
     "cell_type": "markdown",
     "metadata": {
      "slideshow": {
       "slide_type": "slide"
      }
     },
     "source": [
      "A graphical way to \n",
      "visualize the relationship between `Income` and `RTWL`  is the *boxplot*."
     ]
    },
    {
     "cell_type": "code",
     "collapsed": false,
     "input": [
      "rtw.boxplot(column=\"Income\", by=\"RTWL\", figsize=(12,6))"
     ],
     "language": "python",
     "metadata": {
      "slideshow": {
       "slide_type": "fragment"
      }
     },
     "outputs": [
      {
       "metadata": {},
       "output_type": "pyout",
       "prompt_number": 8,
       "text": [
        "<matplotlib.axes._subplots.AxesSubplot at 0x10cb10390>"
       ]
      },
      {
       "metadata": {},
       "output_type": "display_data",
       "png": "[encoded data removed]",
       "text": [
        "<matplotlib.figure.Figure at 0x10cb04b50>"
       ]
      }
     ],
     "prompt_number": 8
    },
    {
     "cell_type": "markdown",
     "metadata": {
      "slideshow": {
       "slide_type": "slide"
      }
     },
     "source": [
      "One variable that may have an important effect on the relationship between\n",
      " is the cost of living `COL`. It also varies between right-to-work states."
     ]
    },
    {
     "cell_type": "code",
     "collapsed": false,
     "input": [
      "rtw.boxplot(column=\"COL\", by=\"RTWL\", figsize=(12,6))"
     ],
     "language": "python",
     "metadata": {
      "slideshow": {
       "slide_type": "fragment"
      }
     },
     "outputs": [
      {
       "metadata": {},
       "output_type": "pyout",
       "prompt_number": 9,
       "text": [
        "<matplotlib.axes._subplots.AxesSubplot at 0x10cf235d0>"
       ]
      },
      {
       "metadata": {},
       "output_type": "display_data",
       "png": "[encoded data removed]",
       "text": [
        "<matplotlib.figure.Figure at 0x10cf2db50>"
       ]
      }
     ],
     "prompt_number": 9
    },
    {
     "cell_type": "markdown",
     "metadata": {
      "slideshow": {
       "slide_type": "slide"
      }
     },
     "source": [
      "We may want to include more than one plot in a given display. We can do so with `subplots`."
     ]
    },
    {
     "cell_type": "code",
     "collapsed": false,
     "input": [
      "f, ((ax1, ax2), (ax3, ax4)) = plt.subplots(2, 2, figsize=(12,6))\n",
      "ax1.scatter(rtw.URate, rtw.COL)\n",
      "ax2.scatter(rtw.URate, rtw.Income)\n",
      "ax3.scatter(rtw.URate, rtw.Pop)\n",
      "ax4.scatter(rtw.COL, rtw.Income)"
     ],
     "language": "python",
     "metadata": {
      "slideshow": {
       "slide_type": "fragment"
      }
     },
     "outputs": [
      {
       "metadata": {},
       "output_type": "pyout",
       "prompt_number": 10,
       "text": [
        "<matplotlib.collections.PathCollection at 0x10dcb2c90>"
       ]
      },
      {
       "metadata": {},
       "output_type": "display_data",
       "png": "[encoded data removed]",
       "text": [
        "<matplotlib.figure.Figure at 0x10cf5cb50>"
       ]
      }
     ],
     "prompt_number": 10
    },
    {
     "cell_type": "markdown",
     "metadata": {
      "slideshow": {
       "slide_type": "slide"
      }
     },
     "source": [
      "`pandas` has a builtin function that will try to display all pairwise relationships in a given dataset, the function `scatter_matrix`."
     ]
    },
    {
     "cell_type": "code",
     "collapsed": false,
     "input": [
      "axes = pd.scatter_matrix(rtw, figsize=(18,9))"
     ],
     "language": "python",
     "metadata": {
      "slideshow": {
       "slide_type": "fragment"
      }
     },
     "outputs": [
      {
       "metadata": {},
       "output_type": "display_data",
       "png": "[encoded data removed]",
       "text": [
        "<matplotlib.figure.Figure at 0x10d986ed0>"
       ]
      }
     ],
     "prompt_number": 11
    },
    {
     "cell_type": "markdown",
     "metadata": {
      "slideshow": {
       "slide_type": "skip"
      }
     },
     "source": [
      "In looking at all the pairwise relationships. There is a point that stands out from all the rest.\n",
      "This data point is New York City, the 27th row of the table."
     ]
    },
    {
     "cell_type": "code",
     "collapsed": false,
     "input": [
      "rtw.ix[26]"
     ],
     "language": "python",
     "metadata": {
      "slideshow": {
       "slide_type": "skip"
      }
     },
     "outputs": [
      {
       "metadata": {},
       "output_type": "pyout",
       "prompt_number": 12,
       "text": [
        "City      New York\n",
        "COL            323\n",
        "PD            6908\n",
        "URate         39.2\n",
        "Pop        9561089\n",
        "Taxes         5260\n",
        "Income        4862\n",
        "RTWL             0\n",
        "Name: 26, dtype: object"
       ]
      }
     ],
     "prompt_number": 12
    },
    {
     "cell_type": "markdown",
     "metadata": {
      "slideshow": {
       "slide_type": "skip"
      }
     },
     "source": [
      "# Right-to-work example\n",
      "\n",
      "## Building a model\n",
      "\n",
      "Some of the main goals of this session:\n",
      "\n",
      "* Build a statistical model describing the *effect* of `RTWL` on `Income`.\n",
      "\n",
      "* This model should recognize that other variables also affect `Income`.\n",
      "\n",
      "* What sort of *statistical confidence* do we have in our \n",
      "conclusion about `RTWL` and `Income`?\n",
      "\n",
      "* Is the model adequate do describe this dataset?\n",
      "\n",
      "* Are there other (simpler, more complicated) models?\n",
      "   \n"
     ]
    },
    {
     "cell_type": "markdown",
     "metadata": {},
     "source": [
      "--------\n",
      "# Exercise Before the Break\n",
      "\n",
      "1. Fit an OLS (Ordinary Least Squares) model to `Income ~ RTWL` to see how right-to-work legislation affects income.\n",
      "2. Using the parameters fit by this model, how much more or less can a worker expect to make if she or he lives in a \"right-to-work\" state?"
     ]
    },
    {
     "cell_type": "code",
     "collapsed": false,
     "input": [
      "res = sm.OLS.from_formula(\"Income ~ RTWL\", rtw).fit()"
     ],
     "language": "python",
     "metadata": {},
     "outputs": [],
     "prompt_number": 15
    },
    {
     "cell_type": "code",
     "collapsed": false,
     "input": [
      "res.params"
     ],
     "language": "python",
     "metadata": {},
     "outputs": [
      {
       "metadata": {},
       "output_type": "pyout",
       "prompt_number": 16,
       "text": [
        "Intercept    5335.821429\n",
        "RTWL        -2382.821429\n",
        "dtype: float64"
       ]
      }
     ],
     "prompt_number": 16
    },
    {
     "cell_type": "markdown",
     "metadata": {},
     "source": [
      "----------------"
     ]
    },
    {
     "cell_type": "heading",
     "level": 1,
     "metadata": {},
     "source": [
      "History of Probability"
     ]
    },
    {
     "cell_type": "markdown",
     "metadata": {
      "slideshow": {
       "slide_type": "slide"
      }
     },
     "source": [
      "Chevalier de M\u00e9r\u00e9 (~1654)\n",
      "----------------\n",
      "### What's likelier: \n",
      "\n",
      "* rolling at least **one six** in **4 throws** of *a single die*\n",
      "* rolling at least **one double six** in **24 throws** of a *pair of dice*"
     ]
    },
    {
     "cell_type": "raw",
     "metadata": {},
     "source": [
      "\n",
      "\n",
      "\n",
      "\n",
      "\n",
      "\n",
      "\n",
      "\n",
      "\n",
      "\n",
      "\n",
      "\n",
      "\n",
      "\n",
      "\n",
      "\n",
      "\n",
      "\n",
      "\n",
      "\n",
      "\n",
      "\n",
      "\n"
     ]
    },
    {
     "cell_type": "markdown",
     "metadata": {
      "slideshow": {
       "slide_type": "slide"
      }
     },
     "source": [
      "Chevalier de M\u00e9r\u00e9's reasoning:\n",
      "\n",
      "* chance of one six $= \\frac{1}{6}$\n",
      "* acerage number in four rolls $= 4 \\times \\left(\\frac{1}{6}\\right) = \\frac{2}{3}$\n",
      "* chance of double six in one roll $= \\frac{1}{36}$\n",
      "* average number in 24 rolls $= 24 \\times \\left(\\frac{1}{36}\\right) = \\frac{2}{3}$"
     ]
    },
    {
     "cell_type": "markdown",
     "metadata": {
      "slideshow": {
       "slide_type": "slide"
      }
     },
     "source": [
      "    iteration  | bet 1 | bet 2 | bet 1: avg | bet 2: avg"
     ]
    },
    {
     "cell_type": "markdown",
     "metadata": {
      "slideshow": {
       "slide_type": "-"
      }
     },
     "source": [
      "            0     win     win     1.0          0.0"
     ]
    },
    {
     "cell_type": "markdown",
     "metadata": {
      "slideshow": {
       "slide_type": "fragment"
      }
     },
     "source": [
      "            1     win     win     1.0          1.0"
     ]
    },
    {
     "cell_type": "markdown",
     "metadata": {
      "slideshow": {
       "slide_type": "fragment"
      }
     },
     "source": [
      "            2     win     win     1.0          1.0"
     ]
    },
    {
     "cell_type": "markdown",
     "metadata": {
      "slideshow": {
       "slide_type": "fragment"
      }
     },
     "source": [
      "            3     lose    lose    0.75         0.75"
     ]
    },
    {
     "cell_type": "markdown",
     "metadata": {
      "slideshow": {
       "slide_type": "fragment"
      }
     },
     "source": [
      "            4     win     lose    0.8          0.6"
     ]
    },
    {
     "cell_type": "markdown",
     "metadata": {
      "slideshow": {
       "slide_type": "fragment"
      }
     },
     "source": [
      "            5     lose    lose    0.667        0.5"
     ]
    },
    {
     "cell_type": "markdown",
     "metadata": {
      "slideshow": {
       "slide_type": "fragment"
      }
     },
     "source": [
      "            6     lose    win     0.571        0.571"
     ]
    },
    {
     "cell_type": "markdown",
     "metadata": {
      "slideshow": {
       "slide_type": "fragment"
      }
     },
     "source": [
      "            7     win     win     0.625        0.625"
     ]
    },
    {
     "cell_type": "markdown",
     "metadata": {
      "slideshow": {
       "slide_type": "fragment"
      }
     },
     "source": [
      "            8     lose    win     0.556        0.667"
     ]
    },
    {
     "cell_type": "markdown",
     "metadata": {
      "slideshow": {
       "slide_type": "fragment"
      }
     },
     "source": [
      "            9     lose    lose    0.5          0.6"
     ]
    },
    {
     "cell_type": "markdown",
     "metadata": {
      "slideshow": {
       "slide_type": "slide"
      }
     },
     "source": [
      "Let's run a simulation:\n",
      "-----------------------\n",
      "First let us instantiate a fair die using the `sympy` library:"
     ]
    },
    {
     "cell_type": "code",
     "collapsed": false,
     "input": [
      "D6 = Die('D6') \n",
      "density(D6).dict"
     ],
     "language": "python",
     "metadata": {
      "slideshow": {
       "slide_type": "-"
      }
     },
     "outputs": []
    },
    {
     "cell_type": "markdown",
     "metadata": {
      "slideshow": {
       "slide_type": "fragment"
      }
     },
     "source": [
      "Let's simulate one roll of the dice:"
     ]
    },
    {
     "cell_type": "code",
     "collapsed": false,
     "input": [
      "6 in (sample(D6), sample(D6), sample(D6), sample(D6))"
     ],
     "language": "python",
     "metadata": {
      "slideshow": {
       "slide_type": "fragment"
      }
     },
     "outputs": []
    },
    {
     "cell_type": "markdown",
     "metadata": {
      "slideshow": {
       "slide_type": "subslide"
      }
     },
     "source": [
      "Now lets simulate 2000 trials:"
     ]
    },
    {
     "cell_type": "code",
     "collapsed": false,
     "input": [
      "one6in4 = pd.Series(6 in (sample(D6), sample(D6), sample(D6), sample(D6)) for _ in range(2000))\n",
      "(one6in4.cumsum()/one6in4.index).plot(ylim=(0,1))\n",
      "one6in4.mean()"
     ],
     "language": "python",
     "metadata": {
      "slideshow": {
       "slide_type": "-"
      }
     },
     "outputs": []
    },
    {
     "cell_type": "markdown",
     "metadata": {
      "slideshow": {
       "slide_type": "fragment"
      }
     },
     "source": [
      "Somewhat less than $^2/_3$ but still good if one is betting even odds."
     ]
    },
    {
     "cell_type": "markdown",
     "metadata": {
      "slideshow": {
       "slide_type": "slide"
      }
     },
     "source": [
      "What about two dice?"
     ]
    },
    {
     "cell_type": "code",
     "collapsed": false,
     "input": [
      "A, B = Die('A'), Die('B')\n",
      "density(A + B).dict"
     ],
     "language": "python",
     "metadata": {
      "slideshow": {
       "slide_type": "-"
      }
     },
     "outputs": []
    },
    {
     "cell_type": "markdown",
     "metadata": {
      "slideshow": {
       "slide_type": "fragment"
      }
     },
     "source": [
      "Can we get boxcars on 24 rolls of a pair of dice?"
     ]
    },
    {
     "cell_type": "code",
     "collapsed": false,
     "input": [
      "12 in sample_iter(A + B, numsamples=24)"
     ],
     "language": "python",
     "metadata": {
      "slideshow": {
       "slide_type": "fragment"
      }
     },
     "outputs": []
    },
    {
     "cell_type": "markdown",
     "metadata": {
      "slideshow": {
       "slide_type": "slide"
      }
     },
     "source": [
      "Now let's simulate 2000 trials:"
     ]
    },
    {
     "cell_type": "code",
     "collapsed": false,
     "input": [
      "one12in24 = pd.Series(12 in sample_iter(A + B, numsamples=24) for _ in range(2000))\n",
      "(one12in24.cumsum()/one12in24.index).plot(ylim=(0,1))\n",
      "one12in24.mean()"
     ],
     "language": "python",
     "metadata": {
      "slideshow": {
       "slide_type": "-"
      }
     },
     "outputs": []
    },
    {
     "cell_type": "markdown",
     "metadata": {
      "slideshow": {
       "slide_type": "fragment"
      }
     },
     "source": [
      "Not so good for de M\u00e9r\u00e9"
     ]
    },
    {
     "cell_type": "markdown",
     "metadata": {
      "slideshow": {
       "slide_type": "slide"
      }
     },
     "source": [
      "Why did he *lose more often* with the second gamble?"
     ]
    },
    {
     "cell_type": "markdown",
     "metadata": {
      "slideshow": {
       "slide_type": "fragment"
      }
     },
     "source": [
      "De M\u00e9r\u00e9 asked his friend, Blaise Pascal what was going on."
     ]
    },
    {
     "cell_type": "markdown",
     "metadata": {
      "slideshow": {
       "slide_type": "fragment"
      }
     },
     "source": [
      "Pascal consulted with Pierre de Fermat and the Theory of Probability was born."
     ]
    },
    {
     "cell_type": "markdown",
     "metadata": {
      "slideshow": {
       "slide_type": "slide"
      }
     },
     "source": [
      "What are the chances with one die?\n",
      "----------------------------------"
     ]
    },
    {
     "cell_type": "code",
     "collapsed": false,
     "input": [
      "P(Eq(D6, 6)), P(D6 < 6)"
     ],
     "language": "python",
     "metadata": {
      "slideshow": {
       "slide_type": "fragment"
      }
     },
     "outputs": []
    },
    {
     "cell_type": "markdown",
     "metadata": {
      "slideshow": {
       "slide_type": "fragment"
      }
     },
     "source": [
      "What are the chances with two dice?\n",
      "-----------------------------------\n",
      "$$ P(win) = \\frac{1}{6} + \\frac{5}{6} \\times \\frac{1}{6} $$\n",
      "$$ P(lose) = \\frac{5}{6} \\times \\frac{5}{6} $$"
     ]
    },
    {
     "cell_type": "code",
     "collapsed": false,
     "input": [
      "P(Eq(D6, 6)) + P(Eq(D6, 6)) * P(D6 < 6), P(D6 < 6) * P(D6 < 6)"
     ],
     "language": "python",
     "metadata": {
      "slideshow": {
       "slide_type": "fragment"
      }
     },
     "outputs": []
    },
    {
     "cell_type": "markdown",
     "metadata": {
      "slideshow": {
       "slide_type": "subslide"
      }
     },
     "source": [
      "What about three dice?\n",
      "----------------------\n",
      "$$ P(win) = \\frac{1}{6} + \\frac{5}{6} \\times \\frac{1}{6} + \\frac{5}{6} \\times \\frac{5}{6} \\times \\frac{1}{6}$$\n",
      "$$ P(lose) = \\frac{5}{6} \\times \\frac{5}{6}  \\times \\frac{5}{6}$$"
     ]
    },
    {
     "cell_type": "code",
     "collapsed": false,
     "input": [
      "P(Eq(D6, 6)) + P(Eq(D6, 6)) * P(D6 < 6) + P(Eq(D6, 6)) * P(Eq(D6, 6)) * P(D6 < 6), P(D6 < 6)**3"
     ],
     "language": "python",
     "metadata": {
      "slideshow": {
       "slide_type": "fragment"
      }
     },
     "outputs": []
    },
    {
     "cell_type": "markdown",
     "metadata": {
      "slideshow": {
       "slide_type": "subslide"
      }
     },
     "source": [
      "How about four dice?\n",
      "--------------------\n",
      "$$ P(lose) = \\left(\\frac{5}{6}\\right)^4 $$\n",
      "$$ P(win) = 1 - P(lose) $$"
     ]
    },
    {
     "cell_type": "code",
     "collapsed": false,
     "input": [
      "1 - P(D6 < 6)**4, P(D6 < 6)**4"
     ],
     "language": "python",
     "metadata": {
      "slideshow": {
       "slide_type": "fragment"
      }
     },
     "outputs": []
    },
    {
     "cell_type": "code",
     "collapsed": false,
     "input": [
      "(1 - P(D6 < 6)**4).evalf(3)"
     ],
     "language": "python",
     "metadata": {
      "slideshow": {
       "slide_type": "fragment"
      }
     },
     "outputs": []
    },
    {
     "cell_type": "markdown",
     "metadata": {
      "slideshow": {
       "slide_type": "fragment"
      }
     },
     "source": [
      "Better than $^{50}/_{50}$, but not as good as de M\u00e9r\u00e9 thought."
     ]
    },
    {
     "cell_type": "markdown",
     "metadata": {
      "slideshow": {
       "slide_type": "slide"
      }
     },
     "source": [
      "Now, what are the chances of getting 12 on a pair of dice?\n",
      "----------------------------------------------------------"
     ]
    },
    {
     "cell_type": "code",
     "collapsed": false,
     "input": [
      "P(Eq(A + B, 12)), P(A + B < 12)"
     ],
     "language": "python",
     "metadata": {
      "slideshow": {
       "slide_type": "-"
      }
     },
     "outputs": []
    },
    {
     "cell_type": "markdown",
     "metadata": {
      "slideshow": {
       "slide_type": "subslide"
      }
     },
     "source": [
      "So far, so good. What about 24 tosses of a pair of dice?\n",
      "----------------------------------------------------------\n",
      "$$ P(lose) = \\left(\\frac{35}{36}\\right)^{24} $$\n",
      "$$ P(win) = 1 - P(lose) $$"
     ]
    },
    {
     "cell_type": "code",
     "collapsed": false,
     "input": [
      "1 - P(A + B < 12)**24, P(A + B < 12)**24"
     ],
     "language": "python",
     "metadata": {
      "slideshow": {
       "slide_type": "fragment"
      }
     },
     "outputs": []
    },
    {
     "cell_type": "code",
     "collapsed": false,
     "input": [
      "(1 - P(A + B < 12)**24).evalf(3)"
     ],
     "language": "python",
     "metadata": {
      "slideshow": {
       "slide_type": "fragment"
      }
     },
     "outputs": []
    },
    {
     "cell_type": "markdown",
     "metadata": {
      "slideshow": {
       "slide_type": "fragment"
      }
     },
     "source": [
      "Now we understand why de M\u00e9r\u00e9 kept losing the second bet."
     ]
    },
    {
     "cell_type": "markdown",
     "metadata": {
      "slideshow": {
       "slide_type": "fragment"
      }
     },
     "source": [
      "Later we will investigate how long it might have taken de M\u00e9r\u00e9 to realize he was wrong, but first..."
     ]
    },
    {
     "cell_type": "markdown",
     "metadata": {},
     "source": [
      "---\n",
      "# Birthday Paradox\n",
      "\n",
      "Given a sample of _n_ people, we would like to calculate the probability _p_ that _at least_ one person has the same birthday as _any_ other person in the group.  \n",
      "\n",
      "How big do you think this class would have to be in order for there to be >50% chance that two people have the same birthday?  \n",
      "\n",
      "Alternatively, what are the chances that two people in this class have the same birthday?\n",
      "\n",
      "### Assumptions:\n",
      "\n",
      "* the probability distribution is uniform\n",
      "* all events are independant from each other"
     ]
    },
    {
     "cell_type": "markdown",
     "metadata": {},
     "source": [
      "--------------------"
     ]
    },
    {
     "cell_type": "heading",
     "level": 1,
     "metadata": {},
     "source": [
      "Numerical descriptive statistics"
     ]
    },
    {
     "cell_type": "markdown",
     "metadata": {
      "slideshow": {
       "slide_type": "slide"
      }
     },
     "source": [
      "## Mean of a sample\n",
      "\n",
      "Given a sample of numbers $X=(X_1, \\dots, X_n)$ the sample mean, \n",
      "$\\overline{X}$ is\n",
      "$$\n",
      "\\overline{X} = \\frac1n \\sum_{i=1}^n X_i.$$\n",
      "   \n",
      "There are many ways to compute this in `python`."
     ]
    },
    {
     "cell_type": "code",
     "collapsed": false,
     "input": [
      "X = [1,3,5,7,8,12,19]\n",
      "print X\n",
      "print np.mean(X)\n",
      "print (X[0]+X[1]+X[2]+X[3]+X[4]+X[5]+X[6])/7\n",
      "print np.sum(X)/len(X)"
     ],
     "language": "python",
     "metadata": {
      "slideshow": {
       "slide_type": "fragment"
      }
     },
     "outputs": []
    },
    {
     "cell_type": "code",
     "collapsed": false,
     "input": [
      "!tail data/Calcium.html"
     ],
     "language": "python",
     "metadata": {},
     "outputs": []
    },
    {
     "cell_type": "markdown",
     "metadata": {
      "slideshow": {
       "slide_type": "slide"
      }
     },
     "source": [
      "We'll also illustrate thes calculations with part of an example we consider below, on differences\n",
      "in blood pressure between two groups."
     ]
    },
    {
     "cell_type": "code",
     "collapsed": false,
     "input": [
      "#url = 'http://lib.stat.cmu.edu/DASL/Datafiles/Calcium.html'\n",
      "calcium = pd.read_table(\"data/Calcium.txt\")\n",
      "treated = calcium.Decrease[calcium.Treatment == 'Calcium']\n",
      "placebo = calcium.Decrease[calcium.Treatment == 'Placebo']\n",
      "treated.mean(), placebo.mean()"
     ],
     "language": "python",
     "metadata": {
      "slideshow": {
       "slide_type": "fragment"
      }
     },
     "outputs": []
    },
    {
     "cell_type": "markdown",
     "metadata": {
      "slideshow": {
       "slide_type": "slide"
      }
     },
     "source": [
      "## Standard deviation of a sample\n",
      "\n",
      "Given a sample of numbers $X=(X_1, \\dots, X_n)$ the sample \n",
      "standard deviation $S_X$ is\n",
      "$$\n",
      "S^2_X = \\frac{1}{n-1}  \\sum_{i=1}^n (X_i-\\overline{X})^2.$$"
     ]
    },
    {
     "cell_type": "code",
     "collapsed": false,
     "input": [
      "S2 = sum((treated - treated.mean())**2) / (len(treated) - 1)\n",
      "print np.sqrt(S2)\n",
      "print treated.std()"
     ],
     "language": "python",
     "metadata": {
      "slideshow": {
       "slide_type": "fragment"
      }
     },
     "outputs": []
    },
    {
     "cell_type": "markdown",
     "metadata": {
      "slideshow": {
       "slide_type": "slide"
      }
     },
     "source": [
      "## Median of a sample\n",
      "\n",
      "   Given a sample of numbers $X=(X_1, \\dots, X_n)$ the sample median is\n",
      "   the `middle` of the sample:\n",
      "   if $n$ is even, it is the average of the middle two points.\n",
      "   If $n$ is odd, it is the midpoint.\n"
     ]
    },
    {
     "cell_type": "code",
     "collapsed": false,
     "input": [
      "X = pd.Series([1,3,5,7,8,12,19])\n",
      "X.median()"
     ],
     "language": "python",
     "metadata": {
      "slideshow": {
       "slide_type": "fragment"
      }
     },
     "outputs": []
    },
    {
     "cell_type": "markdown",
     "metadata": {
      "slideshow": {
       "slide_type": "slide"
      }
     },
     "source": [
      "## Quantiles of a sample\n",
      "\n",
      "Given a sample of numbers $X=(X_1, \\dots, X_n)$ the  $q$-th quantile is\n",
      "a point $x_q$ in the data such that $q \\cdot 100\\%$ of the data lie to the \n",
      "left of $x_q$.\n",
      "\n",
      "### Example\n",
      "\n",
      "The $0.5$-quantile is the median: half \n",
      "of the data lie to the right of the median.\n"
     ]
    },
    {
     "cell_type": "code",
     "collapsed": false,
     "input": [
      "X.quantile(.25)"
     ],
     "language": "python",
     "metadata": {
      "slideshow": {
       "slide_type": "fragment"
      }
     },
     "outputs": []
    },
    {
     "cell_type": "heading",
     "level": 1,
     "metadata": {},
     "source": [
      "Graphical statistical summaries"
     ]
    },
    {
     "cell_type": "markdown",
     "metadata": {
      "slideshow": {
       "slide_type": "slide"
      }
     },
     "source": [
      "We've already seen a boxplot. Another common statistical summary is a \n",
      "histogram."
     ]
    },
    {
     "cell_type": "code",
     "collapsed": false,
     "input": [
      "treated.hist(figsize=(12,6))\n",
      "plt.title('Treated group')\n",
      "plt.xlabel('Decrease')"
     ],
     "language": "python",
     "metadata": {},
     "outputs": []
    },
    {
     "cell_type": "markdown",
     "metadata": {},
     "source": [
      "---"
     ]
    },
    {
     "cell_type": "heading",
     "level": 1,
     "metadata": {
      "slideshow": {
       "slide_type": "slide"
      }
     },
     "source": [
      "p-values and Hypothesis Testing"
     ]
    },
    {
     "cell_type": "markdown",
     "metadata": {
      "slideshow": {
       "slide_type": "slide"
      }
     },
     "source": [
      "Back to de M\u00e9r\u00e9's *Null Hypothesis* $(H_0)$:\n",
      "$$ P(win) = \\frac{2}{3} $$"
     ]
    },
    {
     "cell_type": "code",
     "collapsed": false,
     "input": [
      "X = Binomial('X', 1, S(2)/3)\n",
      "density(X).dict "
     ],
     "language": "python",
     "metadata": {
      "slideshow": {
       "slide_type": "-"
      }
     },
     "outputs": []
    },
    {
     "cell_type": "markdown",
     "metadata": {
      "slideshow": {
       "slide_type": "subslide"
      }
     },
     "source": [
      "If he plays three times, according to $H_0$, he should win:"
     ]
    },
    {
     "cell_type": "code",
     "collapsed": false,
     "input": [
      "X = Binomial('X', 3, S(2)/3)\n",
      "density(X).dict"
     ],
     "language": "python",
     "metadata": {
      "slideshow": {
       "slide_type": "-"
      }
     },
     "outputs": []
    },
    {
     "cell_type": "markdown",
     "metadata": {
      "slideshow": {
       "slide_type": "fragment"
      }
     },
     "source": [
      "If he plays nine times, his odds:"
     ]
    },
    {
     "cell_type": "code",
     "collapsed": false,
     "input": [
      "X = Binomial('X', 9, S(2)/3)\n",
      "density(X).dict"
     ],
     "language": "python",
     "metadata": {
      "slideshow": {
       "slide_type": "fragment"
      }
     },
     "outputs": []
    },
    {
     "cell_type": "code",
     "collapsed": false,
     "input": [
      "plt.figure(figsize=(12,6))\n",
      "colors = matplotlib.rcParams['axes.color_cycle']\n",
      "p = 2/3\n",
      "for k, color in zip(np.arange(4,13), colors):\n",
      "    rv = binom(k, p)\n",
      "    x = np.linspace(0.0, 1.0, k+1)\n",
      "    y = rv.pmf(range(k+1))\n",
      "    plt.plot(x, y, lw=2, color=color, label=k)\n",
      "    plt.fill_between(x, y, color=color, alpha=1/9)\n",
      "plt.legend()\n",
      "plt.title(\"Relative distribution given $p = 2/3$\")\n",
      "plt.tight_layout()\n",
      "plt.ylabel(\"PDF\")\n",
      "plt.xlabel(\"Relative Frequency\")"
     ],
     "language": "python",
     "metadata": {
      "slideshow": {
       "slide_type": "subslide"
      }
     },
     "outputs": []
    },
    {
     "cell_type": "markdown",
     "metadata": {
      "slideshow": {
       "slide_type": "subslide"
      }
     },
     "source": [
      "What are the chances of losing 6 out of 12 games, given: $$ H_0: P(win) = \\frac{2}{3} $$"
     ]
    },
    {
     "cell_type": "code",
     "collapsed": false,
     "input": [
      "X = Binomial('X', 12, S(2)/3)\n",
      "P(X <= 6).evalf(3)"
     ],
     "language": "python",
     "metadata": {
      "slideshow": {
       "slide_type": "fragment"
      }
     },
     "outputs": []
    },
    {
     "cell_type": "markdown",
     "metadata": {
      "slideshow": {
       "slide_type": "fragment"
      }
     },
     "source": [
      "In other words, if we were to play 12 games *100 times*, and $H_0$ *were true*, we could expect to lose half of those 12 about 18% of the time."
     ]
    },
    {
     "cell_type": "markdown",
     "metadata": {
      "slideshow": {
       "slide_type": "subslide"
      }
     },
     "source": [
      "How many games do we need to play before we can conclude, from losing half the time, that $p(win) < \\frac{2}{3}$"
     ]
    },
    {
     "cell_type": "code",
     "collapsed": false,
     "input": [
      "for t in range(12,53,2):\n",
      "    X = Binomial('X', t, S(2)/3)\n",
      "    print \"{} trials: p-value = {}\".format(t, P(X <= t/2).evalf(3))"
     ],
     "language": "python",
     "metadata": {},
     "outputs": []
    },
    {
     "cell_type": "markdown",
     "metadata": {
      "slideshow": {
       "slide_type": "slide"
      }
     },
     "source": [
      "What is a p-value?\n",
      "=================="
     ]
    },
    {
     "cell_type": "markdown",
     "metadata": {
      "slideshow": {
       "slide_type": "fragment"
      }
     },
     "source": [
      "What it's not:\n",
      "------------------"
     ]
    },
    {
     "cell_type": "markdown",
     "metadata": {
      "slideshow": {
       "slide_type": "fragment"
      }
     },
     "source": [
      "* It is ***not*** the probability that the null hypothesis is true."
     ]
    },
    {
     "cell_type": "markdown",
     "metadata": {
      "slideshow": {
       "slide_type": "fragment"
      }
     },
     "source": [
      "* It is ***not*** the inverse of the probability that the alternative hypothesis *is* true."
     ]
    },
    {
     "cell_type": "markdown",
     "metadata": {
      "slideshow": {
       "slide_type": "fragment"
      }
     },
     "source": [
      "What it is:\n",
      "------------------\n",
      "\n",
      "* The *p-value* is the probability of an observed outcome *if the null hypothesis **were** true*."
     ]
    },
    {
     "cell_type": "markdown",
     "metadata": {
      "slideshow": {
       "slide_type": "fragment"
      }
     },
     "source": [
      "*N.B. Statistics is incapable of proving that anything is true. It can only suggest that something **probably isn't**.*"
     ]
    },
    {
     "cell_type": "code",
     "collapsed": false,
     "input": [
      "plt.figure(figsize=(12,6))\n",
      "k = range(30)\n",
      "H_0 = binom(29, 0.667).pmf(k)\n",
      "plt.plot(k, H_0, lw=2, color=colors[1], label=\"$H_0$\")\n",
      "plt.fill_between(k, H_0, color=colors[1], alpha=.5)\n",
      "H_a = binom(29, 0.491).pmf(k)\n",
      "plt.plot(k, H_a, lw=2, color=colors[0], label=\"$H_a$\")\n",
      "plt.fill_between(k, H_a, color=colors[0], alpha=.5)\n",
      "plt.legend()\n",
      "plt.title(\"Binomial distribution\")\n",
      "plt.tight_layout()\n",
      "plt.ylabel(\"PDF at $k$\")\n",
      "plt.xlabel(\"$k$\")"
     ],
     "language": "python",
     "metadata": {
      "slideshow": {
       "slide_type": "subslide"
      }
     },
     "outputs": []
    },
    {
     "cell_type": "heading",
     "level": 1,
     "metadata": {},
     "source": [
      "Inference about a population mean"
     ]
    },
    {
     "cell_type": "markdown",
     "metadata": {
      "slideshow": {
       "slide_type": "slide"
      }
     },
     "source": [
      "## A testing scenario\n",
      "\n",
      "* Suppose we want to determine the efficacy of a new drug on blood pressure.\n",
      "\n",
      "* Our study design is: we will treat\n",
      "a large patient population (maybe not so large: budget constraints limit it $n=20$) with the drug and measure their\n",
      "blood pressure before and after taking the drug.\n",
      "\n",
      "* One way to conclude that the drug is effective if the blood pressure has decreased. That is,\n",
      "if the average difference between before and after is positive."
     ]
    },
    {
     "cell_type": "markdown",
     "metadata": {
      "slideshow": {
       "slide_type": "slide"
      }
     },
     "source": [
      "## Setting up the test\n",
      "\n",
      "\n",
      "\n",
      "* The *null hypothesis*, $H_0$ is: *the average difference is less\n",
      "than zero.*\n",
      "\n",
      "* The *alternative hypothesis*, $H_a$, is: *the average difference \n",
      "is greater than zero.*\n",
      "\n",
      "* Sometimes (actually, often), people will test the alternative, $H_a$: *the\n",
      "average difference is not zero* vs. $H_0$: *the average difference is zero.*\n",
      "\n",
      "* The test is performed by estimating\n",
      "the average difference and converting to standardized units.\n"
     ]
    },
    {
     "cell_type": "markdown",
     "metadata": {
      "slideshow": {
       "slide_type": "slide"
      }
     },
     "source": [
      "## Drawing from a box\n",
      "\n",
      "* Formally, could set up the above test as drawing from a box of *differences\n",
      "in blood pressure*.\n",
      "\n",
      "* A box model is a useful theoretical device that describes the experiment\n",
      "under consideration. In our example, we can think of the sample of decreases\n",
      "drawn 20 patients at random from a large population (box) containing all the possible\n",
      "decreases in blood pressure.\n",
      "\n"
     ]
    },
    {
     "cell_type": "markdown",
     "metadata": {
      "slideshow": {
       "slide_type": "slide"
      }
     },
     "source": [
      "## A simulated box model\n",
      "\n",
      "* In our box model, we will assume that the decrease is an integer drawn at random from \n",
      "$-3$ to 6.\n",
      "\n",
      "* We will draw 20 random integers from -3 to 6 with replacement and test whether the mean\n",
      "of our \"box\" is 0 or not."
     ]
    },
    {
     "cell_type": "code",
     "collapsed": false,
     "input": [
      "mysample = np.random.randint(-3, 7, 20)\n",
      "mysample"
     ],
     "language": "python",
     "metadata": {
      "slideshow": {
       "slide_type": "fragment"
      }
     },
     "outputs": []
    },
    {
     "cell_type": "markdown",
     "metadata": {
      "slideshow": {
       "slide_type": "slide"
      }
     },
     "source": [
      "The test is usually a $T$ test that has the form\n",
      "$$\n",
      "   T = \\frac{\\overline{X}-0}{S_X/\\sqrt{n}} \n",
      "    $$"
     ]
    },
    {
     "cell_type": "code",
     "collapsed": false,
     "input": [
      "T = (mysample.mean() - 0) / (mysample.std() / np.sqrt(20))\n",
      "T"
     ],
     "language": "python",
     "metadata": {
      "slideshow": {
       "slide_type": "fragment"
      }
     },
     "outputs": []
    },
    {
     "cell_type": "markdown",
     "metadata": {
      "slideshow": {
       "slide_type": "slide"
      }
     },
     "source": [
      "This $T$ value is compared to a table for the appropriate $T$ distribution (in this case there are 19 *degrees of freedom*) and the 5% cutoff is"
     ]
    },
    {
     "cell_type": "code",
     "collapsed": false,
     "input": [
      "cutoff = stats.t.ppf(.975, 19)\n",
      "cutoff"
     ],
     "language": "python",
     "metadata": {
      "slideshow": {
       "slide_type": "fragment"
      }
     },
     "outputs": []
    },
    {
     "cell_type": "markdown",
     "metadata": {
      "slideshow": {
       "slide_type": "fragment"
      }
     },
     "source": [
      "The result of the test is"
     ]
    },
    {
     "cell_type": "code",
     "collapsed": false,
     "input": [
      "result = abs(T) > cutoff\n",
      "result"
     ],
     "language": "python",
     "metadata": {
      "slideshow": {
       "slide_type": "fragment"
      }
     },
     "outputs": []
    },
    {
     "cell_type": "markdown",
     "metadata": {
      "slideshow": {
       "slide_type": "fragment"
      }
     },
     "source": [
      "If `result` is `TRUE`, then we reject $H_0$ the mean is 0, while if it is `FALSE` we do not reject. Of course, in this example we know the mean in our \"box\" is not 0, it is 1.5.\n"
     ]
    },
    {
     "cell_type": "markdown",
     "metadata": {
      "slideshow": {
       "slide_type": "slide"
      }
     },
     "source": [
      "This rule can be visualized with the $T$ density. The code to produce the figure is a little long, but the figure is hopefully clear. The total grey area is 0.05=5%, and the cutoff is chosen to be symmetric\n",
      "around zero and such that this area is exactly 5%.\n",
      "\n",
      "For a test of size $\\alpha$ we write this cutoff $t_{n-1,1-\\alpha/2}$."
     ]
    },
    {
     "cell_type": "code",
     "collapsed": false,
     "input": [
      "density_fig = plt.figure(figsize=(10,6))\n",
      "axes = density_fig.gca()\n",
      "\n",
      "df = 19\n",
      "x = np.linspace(-4,4,101)\n",
      "axes.plot(x,tdist.pdf(x, df), linewidth=2, label=r'$T$, df=%d' % df)\n",
      "\n",
      "xR = np.linspace(cutoff, 4, 101)\n",
      "yR = tdist.pdf(xR, df)\n",
      "xRpoly, yRpoly = poly_between(xR, 0*xR, yR)\n",
      "axes.fill(xRpoly, yRpoly, facecolor='gray', hatch='\\\\', alpha=0.5)\n",
      "\n",
      "xL = np.linspace(-4, -cutoff, 101)\n",
      "yL = tdist.pdf(xL, df)\n",
      "xLpoly, yLpoly = poly_between(xL, 0*xL, yL)\n",
      "axes.fill(xLpoly, yLpoly, facecolor='gray', hatch='\\\\', alpha=0.5)\n",
      "\n",
      "axes.set_xlabel('standardized units')\n",
      "axes.set_ylabel('density')\n",
      "axes.legend()"
     ],
     "language": "python",
     "metadata": {
      "slideshow": {
       "slide_type": "subslide"
      }
     },
     "outputs": []
    },
    {
     "cell_type": "markdown",
     "metadata": {
      "slideshow": {
       "slide_type": "slide"
      }
     },
     "source": [
      "As mentioned above, sometimes tests are one-sided. If the null hypothesis we tested was that the mean is less than 0, then we would reject this hypothesis if our observed mean was much smaller than 0. This corresponds to a positive $T$ value."
     ]
    },
    {
     "cell_type": "code",
     "collapsed": false,
     "input": [
      "density_fig = plt.figure(figsize=(10,6))\n",
      "axes = density_fig.gca()\n",
      "\n",
      "df = 19\n",
      "cutoff = tdist.isf(0.05,df)\n",
      "\n",
      "x = np.linspace(-4,4,101)\n",
      "axes.plot(x,tdist.pdf(x, df), linewidth=2, label=r'$T$, df=%d' % df)\n",
      "\n",
      "xR = np.linspace(cutoff, 4, 101)\n",
      "yR = tdist.pdf(xR, df)\n",
      "xLpoly, yLpoly = poly_between(xR, 0*xR, yR)\n",
      "axes.fill(xLpoly, yLpoly, facecolor='gray', hatch='\\\\', alpha=0.5)\n",
      "\n",
      "axes.set_xlabel('standardized units')\n",
      "axes.set_ylabel('density')\n",
      "axes.legend()"
     ],
     "language": "python",
     "metadata": {
      "slideshow": {
       "slide_type": "subslide"
      }
     },
     "outputs": []
    },
    {
     "cell_type": "raw",
     "metadata": {
      "slideshow": {
       "slide_type": "slide"
      }
     },
     "source": [
      "The rejection rules are affected by the degrees of freedom. Here is the rejection region\n",
      "when we only have 5 samples from our \"box\"."
     ]
    },
    {
     "cell_type": "code",
     "collapsed": false,
     "input": [
      "density_fig = plt.figure(figsize=(10,6))\n",
      "axes = density_fig.gca()\n",
      "\n",
      "df = 4\n",
      "cutoff = tdist.isf(0.05,df)\n",
      "\n",
      "x = np.linspace(-4,4,101)\n",
      "axes.plot(x,tdist.pdf(x, df), linewidth=2, label=r'$T$, df=%d' % df)\n",
      "\n",
      "xR = np.linspace(cutoff, 4, 101)\n",
      "yR = tdist.pdf(xR, df)\n",
      "xRpoly, yRpoly = poly_between(xR, 0*xR, yR)\n",
      "axes.fill(xRpoly, yRpoly, facecolor='gray', hatch='\\\\', alpha=0.5)\n",
      "\n",
      "axes.set_xlabel('standardized units')\n",
      "axes.set_ylabel('density')\n",
      "axes.legend()"
     ],
     "language": "python",
     "metadata": {
      "slideshow": {
       "slide_type": "fragment"
      }
     },
     "outputs": []
    },
    {
     "cell_type": "markdown",
     "metadata": {
      "slideshow": {
       "slide_type": "slide"
      }
     },
     "source": [
      "## Confidence intervals\n",
      "\n",
      "* Instead of testing a particular hypothesis, we might be interested\n",
      "in coming up with a reasonable range for the mean of our \"box\".\n",
      "\n",
      "* Statistically, this is done via a *confidence interval*.\n",
      "\n",
      "* If the 5% cutoff is $q$ for our test, then the 95% confidence interval is\n",
      "$$\n",
      "[\\bar{X} - q S_X / \\sqrt{n}, \\bar{X} + q S_X / \\sqrt{n}]\n",
      "$$\n",
      "where we recall $q=t_{n-1,0.975}$ with $n=20$. \n",
      "\n",
      "* If we wanted 90% confidence interval, we would use $q=t_{19,0.95}$. Why?"
     ]
    },
    {
     "cell_type": "code",
     "collapsed": false,
     "input": [
      "L = mysample.mean() - cutoff*mysample.std()/np.sqrt(20)\n",
      "U = mysample.mean() + cutoff*mysample.std()/np.sqrt(20)\n",
      "print \"L: {}\\tU: {}\".format(L, U)"
     ],
     "language": "python",
     "metadata": {
      "slideshow": {
       "slide_type": "fragment"
      }
     },
     "outputs": []
    },
    {
     "cell_type": "markdown",
     "metadata": {
      "slideshow": {
       "slide_type": "slide"
      }
     },
     "source": [
      "Note that the endpoints above depend on the data. Not every interval will cover\n",
      "the true mean of our \"box\" which is 1.5. Let's take a look at 100 intervals of size 90%. We would expect\n",
      "that roughly 90 of them cover 1.5."
     ]
    },
    {
     "cell_type": "code",
     "collapsed": false,
     "input": [
      "cutoff = stats.t.ppf(.95, 19)\n",
      "L, U, covered = [], [], []\n",
      "for i in range(100):\n",
      "    mysample = np.random.randint(-3, 7, 20)\n",
      "    l = mysample.mean() - cutoff*mysample.std()/np.sqrt(20)\n",
      "    u = mysample.mean() + cutoff*mysample.std()/np.sqrt(20)\n",
      "    L.append(l)\n",
      "    U.append(u)\n",
      "    covered.append((l < 1.5) * (u > 1.5))\n",
      "\n",
      "sum(covered)"
     ],
     "language": "python",
     "metadata": {
      "slideshow": {
       "slide_type": "fragment"
      }
     },
     "outputs": []
    },
    {
     "cell_type": "markdown",
     "metadata": {
      "slideshow": {
       "slide_type": "slide"
      }
     },
     "source": [
      "A useful picture is to plot all these intervals so we can see the randomness\n",
      "in the intervals, why the true mean of the box is unchanged."
     ]
    },
    {
     "cell_type": "code",
     "collapsed": false,
     "input": [
      "mu = 1.5\n",
      "plt.figure(figsize=(12,6))\n",
      "plt.xlabel('Sample')\n",
      "plt.xlim((0,100))\n",
      "plt.ylabel('Confidence Intervals')\n",
      "plt.ylim((-2.5+mu,2.5+mu))\n",
      "for i in range(100):\n",
      "    if covered[i]:\n",
      "        col='g'\n",
      "    else:\n",
      "        col='r'\n",
      "    plt.plot([i,i], [L[i],U[i]], color=col, linewidth=2)\n",
      "plt.plot([0, 100], [mu, mu], '--', color='k', linewidth=4)"
     ],
     "language": "python",
     "metadata": {
      "slideshow": {
       "slide_type": "fragment"
      }
     },
     "outputs": []
    },
    {
     "cell_type": "heading",
     "level": 1,
     "metadata": {},
     "source": [
      "Blood pressure example"
     ]
    },
    {
     "cell_type": "markdown",
     "metadata": {
      "slideshow": {
       "slide_type": "slide"
      }
     },
     "source": [
      "* A study was conducted to study the effect of calcium supplements\n",
      "on blood pressure.\n",
      "\n",
      "* More detailed data description can be [here](http://lib.stat.cmu.edu/DASL/Datafiles/Calcium.html).\n",
      "\n",
      "* We had loaded the data above, storing the two samples in the variables `treated` and `placebo`.\n",
      "\n",
      "* Some questions might be:\n",
      "    - What is the mean decrease in BP in the treated group? placebo group?\n",
      "    - What is the median decrease in BP in the treated group? placebo group?\n",
      "    -  What is the standard deviation of decrease in BP in the treated group? placebo group?\n",
      "    - Is there a difference between the two groups? Did BP decrease more in \\\n",
      "the treated group?"
     ]
    },
    {
     "cell_type": "code",
     "collapsed": false,
     "input": [
      "print pd.DataFrame({'treated': treated.describe(), 'placebo': placebo.describe()}).T\n",
      "calcium.boxplot('Decrease', 'Treatment', figsize=(12,6))"
     ],
     "language": "python",
     "metadata": {
      "slideshow": {
       "slide_type": "subslide"
      }
     },
     "outputs": []
    },
    {
     "cell_type": "markdown",
     "metadata": {
      "slideshow": {
       "slide_type": "slide"
      }
     },
     "source": [
      "## A hypothesis test\n",
      "\n",
      "In our setting, we have two groups that we have reason to believe are \n",
      "different.\n",
      "\n",
      "* We have two samples:\n",
      "   - $(X_1, \\dots, X_{10})$ (`treated`)\n",
      "   - $(Z_1, \\dots, Z_{11})$ (`placebo`)\n",
      "   \n",
      "* We can answer this statistically by testing the null hypothesis \n",
      "$$H_0:\\mu_X = \\mu_Z.$$\n",
      "\n",
      "* If variances are equal, the *pooled $t$-test* is appropriate."
     ]
    },
    {
     "cell_type": "markdown",
     "metadata": {
      "slideshow": {
       "slide_type": "slide"
      }
     },
     "source": [
      "## Pooled $t$ test\n",
      "\n",
      "* The test statistic is $$ T = \\frac{\\overline{X} - \\overline{Z}}{S_P \\sqrt{\\frac{1}{10} + \\frac{1}{11}}}, \\qquad S^2_P = \\frac{9 \\cdot S^2_X + 10 \\cdot S^2_Z}{19}.$$\n",
      "   \n",
      "*  For two-sided test at level $\\alpha=0.05$, reject if $|T| > t_{19, 0.975}$.\n",
      "   \n",
      "* Confidence interval: for example, a $90\\%$ confidence interval\n",
      "for $\\mu_X-\\mu_Z$ is $$ \\overline{X}-\\overline{Z} \\pm S_P \\sqrt{\\frac{1}{10} + \\frac{1}{11}} \\cdot  t_{19,0.95}.$$"
     ]
    },
    {
     "cell_type": "code",
     "collapsed": false,
     "input": [
      "sdP = np.sqrt((9*treated.std()**2 + 10*placebo.std()**2)/19)\n",
      "T = (treated.mean() - placebo.mean()) / (sdP * np.sqrt(1/10 + 1/11))\n",
      "T"
     ],
     "language": "python",
     "metadata": {
      "slideshow": {
       "slide_type": "fragment"
      }
     },
     "outputs": []
    },
    {
     "cell_type": "markdown",
     "metadata": {
      "slideshow": {
       "slide_type": "slide"
      }
     },
     "source": [
      "`scipy.stats` has a builtin function to perform such $t$-tests."
     ]
    },
    {
     "cell_type": "code",
     "collapsed": false,
     "input": [
      "t, p = stats.ttest_ind(treated, placebo, equal_var=True)\n",
      "'t-statistic = {:6.6} pvalue = {:.4}'.format(t, p)"
     ],
     "language": "python",
     "metadata": {
      "slideshow": {
       "slide_type": "fragment"
      }
     },
     "outputs": []
    },
    {
     "cell_type": "markdown",
     "metadata": {
      "slideshow": {
       "slide_type": "fragment"
      }
     },
     "source": [
      "If we don't make the assumption of equal variance, `R` will give a slightly different result."
     ]
    },
    {
     "cell_type": "code",
     "collapsed": false,
     "input": [
      "t, p = stats.ttest_ind(treated, placebo, equal_var=False)\n",
      "'t-statistic = {:6.6} pvalue = {:.4}'.format(t, p)"
     ],
     "language": "python",
     "metadata": {
      "slideshow": {
       "slide_type": "fragment"
      }
     },
     "outputs": []
    },
    {
     "cell_type": "markdown",
     "metadata": {
      "slideshow": {
       "slide_type": "slide"
      }
     },
     "source": [
      "## Pooled estimate of variance\n",
      "\n",
      "* The rule for the $SD$ of differences is\n",
      "   $$\n",
      "   SD(\\overline{X}-\\overline{Z}) = \\sqrt{SD(\\overline{X})^2+SD(\\overline{Z})^2}$$\n",
      "   \n",
      "* By this rule, we might take our estimate to be\n",
      "   $$\n",
      "   \\widehat{SD(\\overline{X}-\\overline{Z})} = \\sqrt{\\frac{S^2_X}{10} + \\frac{S^2_Z}{11}}.\n",
      "   $$\n",
      "   \n",
      "* The pooled estimate assumes $\\mathbb{E}(S^2_X)=\\mathbb{E}(S^2_Z)=\\sigma^2$ and replaces\n",
      "   the $S^2$'s above with $S^2_P$, a better estimate of\n",
      "   $\\sigma^2$ than either $S^2_X$ or $S^2_Z$.\n",
      "\n",
      "## Where do we get $df=19$?\n",
      "\n",
      "Well, the $X$  sample has $10-1=9$ degrees of freedom\n",
      "   to estimate $\\sigma^2$ while the $Z$  sample\n",
      "   has $11-1=10$ degrees of freedom.\n",
      "   \n",
      "Therefore, the total degrees of freedom is $9+10=19$."
     ]
    },
    {
     "cell_type": "markdown",
     "metadata": {
      "slideshow": {
       "slide_type": "slide"
      }
     },
     "source": [
      "## Our first regression model\n",
      "\n",
      "* We can put the two samples together:\n",
      "   $$Y=(X_1,\\dots, X_{10}, Z_1, \\dots, Z_{11}).$$\n",
      "\n",
      "*  Under the same assumptions as the pooled $t$-test:\n",
      "   $$\n",
      "   \\begin{aligned}\n",
      "   Y_i &\\sim N(\\mu_i, \\sigma^2)\\\\\n",
      "   \\mu_i &=\n",
      "   \\begin{cases}\n",
      "   \\mu_X & 1 \\leq i \\leq 10 \\\\ \\mu_Z & 11 \\leq i \\leq 21.\n",
      "   \\end{cases}\n",
      "   \\end{aligned}\n",
      "   $$\n",
      "   \n",
      "* This is a (regression) model for the sample $Y$. The\n",
      "   (qualitative) variable `Treatment` is\n",
      "   called a *covariate* or *predictor*.\n",
      "   \n",
      "* The decrease in BP is the *outcome*.\n",
      "\n",
      "* We assume that the relationship between treatment and average\n",
      "   decrease in BP is simple: it depends only on which group a subject is in.\n",
      "   \n",
      "* This relationship is *modelled* through the mean\n",
      "   vector $\\mu=(\\mu_1, \\dots, \\mu_{21})$.\n"
     ]
    },
    {
     "cell_type": "code",
     "collapsed": false,
     "input": [
      "mod = sm.OLS.from_formula(formula='Decrease ~ Treatment', data=calcium)\n",
      "res = mod.fit()\n",
      "print res.summary()"
     ],
     "language": "python",
     "metadata": {
      "slideshow": {
       "slide_type": "slide"
      }
     },
     "outputs": []
    }
   ],
   "metadata": {}
  }
 ]
}