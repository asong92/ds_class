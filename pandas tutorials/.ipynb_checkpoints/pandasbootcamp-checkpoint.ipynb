{
 "metadata": {
  "name": "",
  "signature": "sha256:cc687394865315ddc0ff2f3ba2efa9db2dd1e9faae542659b372e5186b523c92"
 },
 "nbformat": 3,
 "nbformat_minor": 0,
 "worksheets": []
}